{
 "cells": [
  {
   "cell_type": "markdown",
   "id": "d68862cd",
   "metadata": {},
   "source": [
    "#### Lists\n",
    "A list is a data structure in Python that is a mutable, or changeable, ordered sequence of elements. Each element or value that is inside of a list is called an item. Just as strings are defined as characters between quotes, lists are defined by having values between square brackets [ ]"
   ]
  },
  {
   "cell_type": "code",
   "execution_count": null,
   "id": "24f191d4",
   "metadata": {},
   "outputs": [
    {
     "name": "stdout",
     "output_type": "stream",
     "text": [
      "parimal\n"
     ]
    }
   ],
   "source": [
    "#string are immuatble\n",
    "str1=\"parimal\"\n",
    "print(str1)# string ke under items character ke form mein present hote hai"
   ]
  },
  {
   "cell_type": "code",
   "execution_count": null,
   "id": "ccf8981b",
   "metadata": {},
   "outputs": [],
   "source": [
    "str1[0]#indexing \n",
    "str1[2]=\"k\"# str object does not support item assignment, string mein agar aap ek barr value define kara dega toh aap usko change nhi kar payenge"
   ]
  },
  {
   "cell_type": "code",
   "execution_count": 13,
   "id": "e62c7d7a",
   "metadata": {},
   "outputs": [
    {
     "name": "stdout",
     "output_type": "stream",
     "text": [
      "[1, 2, 3, 4, 'parimal', 'patel']\n",
      "Desai\n"
     ]
    }
   ],
   "source": [
    "## Lists\n",
    "lst=[1,2,3,4,\"parimal\",\"patel\"]# items homogenous and hetergenous dono ho skta hai\n",
    "print(lst)\n",
    "lst[5]=\"Desai\"\n",
    "print(lst[5])"
   ]
  },
  {
   "cell_type": "code",
   "execution_count": 14,
   "id": "d97192c6",
   "metadata": {},
   "outputs": [
    {
     "name": "stdout",
     "output_type": "stream",
     "text": [
      "[1, 2, 3, 4, 5]\n"
     ]
    }
   ],
   "source": [
    "lst=list((1,2,3,4,5))# 2nd method to create an list\n",
    "type(lst)\n",
    "print(lst)"
   ]
  },
  {
   "cell_type": "code",
   "execution_count": 17,
   "id": "01b5411f",
   "metadata": {},
   "outputs": [
    {
     "name": "stdout",
     "output_type": "stream",
     "text": [
      "1\n",
      "4\n",
      "9\n",
      "16\n",
      "25\n"
     ]
    }
   ],
   "source": [
    "# iterate on every elements\n",
    "lst=[1,2,3,4,5]\n",
    "for i in lst:\n",
    "    print(i**2)"
   ]
  },
  {
   "cell_type": "code",
   "execution_count": 18,
   "id": "ad327967",
   "metadata": {},
   "outputs": [
    {
     "data": {
      "text/plain": [
       "5"
      ]
     },
     "execution_count": 18,
     "metadata": {},
     "output_type": "execute_result"
    }
   ],
   "source": [
    "## Length of list\n",
    "len(lst)"
   ]
  },
  {
   "cell_type": "code",
   "execution_count": 21,
   "id": "dbe00cdd",
   "metadata": {},
   "outputs": [
    {
     "data": {
      "text/plain": [
       "1"
      ]
     },
     "execution_count": 21,
     "metadata": {},
     "output_type": "execute_result"
    }
   ],
   "source": [
    "max(lst)\n",
    "min(lst)\n"
   ]
  },
  {
   "cell_type": "markdown",
   "id": "79b89531",
   "metadata": {},
   "source": [
    "#### Append\n",
    "append is used to add elements in the list, it always add elements to the last"
   ]
  },
  {
   "cell_type": "code",
   "execution_count": 22,
   "id": "a7e8ef5a",
   "metadata": {},
   "outputs": [
    {
     "data": {
      "text/plain": [
       "[1, 2, 3, 4, 5]"
      ]
     },
     "execution_count": 22,
     "metadata": {},
     "output_type": "execute_result"
    }
   ],
   "source": [
    "lst"
   ]
  },
  {
   "cell_type": "code",
   "execution_count": 23,
   "id": "f8565904",
   "metadata": {},
   "outputs": [],
   "source": [
    "lst.append(\"parimal\")"
   ]
  },
  {
   "cell_type": "code",
   "execution_count": 24,
   "id": "85f7058b",
   "metadata": {},
   "outputs": [
    {
     "data": {
      "text/plain": [
       "[1, 2, 3, 4, 5, 'parimal']"
      ]
     },
     "execution_count": 24,
     "metadata": {},
     "output_type": "execute_result"
    }
   ],
   "source": [
    "lst"
   ]
  },
  {
   "cell_type": "code",
   "execution_count": 25,
   "id": "0b25e32c",
   "metadata": {},
   "outputs": [],
   "source": [
    "# adding two elements\n",
    "lst.append([\"patel\",\"desai\"])"
   ]
  },
  {
   "cell_type": "code",
   "execution_count": 26,
   "id": "fbade743",
   "metadata": {},
   "outputs": [
    {
     "data": {
      "text/plain": [
       "[1, 2, 3, 4, 5, 'parimal', ['patel', 'desai']]"
      ]
     },
     "execution_count": 26,
     "metadata": {},
     "output_type": "execute_result"
    }
   ],
   "source": [
    "lst"
   ]
  },
  {
   "cell_type": "code",
   "execution_count": null,
   "id": "e4599655",
   "metadata": {},
   "outputs": [
    {
     "data": {
      "text/plain": [
       "'desai'"
      ]
     },
     "execution_count": 29,
     "metadata": {},
     "output_type": "execute_result"
    }
   ],
   "source": [
    "lst[6][1]# accessing last elements"
   ]
  },
  {
   "cell_type": "code",
   "execution_count": null,
   "id": "d4e4fea1",
   "metadata": {},
   "outputs": [
    {
     "data": {
      "text/plain": [
       "[3, 4, 5, 'parimal']"
      ]
     },
     "execution_count": 31,
     "metadata": {},
     "output_type": "execute_result"
    }
   ],
   "source": [
    "#indexing :- last element hamesha n-1 hota hai\n",
    "lst[2:6]"
   ]
  },
  {
   "cell_type": "markdown",
   "id": "5edcb0a2",
   "metadata": {},
   "source": [
    "#### Insert\n",
    "insert in a specific order"
   ]
  },
  {
   "cell_type": "code",
   "execution_count": null,
   "id": "f964e75c",
   "metadata": {},
   "outputs": [],
   "source": [
    "lst.insert(2,\"pari\")# here 2 is position and pari is value"
   ]
  },
  {
   "cell_type": "code",
   "execution_count": 33,
   "id": "a9dd7197",
   "metadata": {},
   "outputs": [
    {
     "data": {
      "text/plain": [
       "[1, 2, 'pari', 3, 4, 5, 'parimal', ['patel', 'desai']]"
      ]
     },
     "execution_count": 33,
     "metadata": {},
     "output_type": "execute_result"
    }
   ],
   "source": [
    "lst"
   ]
  },
  {
   "cell_type": "markdown",
   "id": "ca5f0167",
   "metadata": {},
   "source": [
    "#### Extend Method\n",
    "nested list nhi banega, ek separate value add karega"
   ]
  },
  {
   "cell_type": "code",
   "execution_count": 34,
   "id": "82bfe2f3",
   "metadata": {},
   "outputs": [],
   "source": [
    "lst=[1,2,3,4,5,6]\n",
    "lst.extend([8,9])"
   ]
  },
  {
   "cell_type": "code",
   "execution_count": 35,
   "id": "d7c1bf8b",
   "metadata": {},
   "outputs": [
    {
     "data": {
      "text/plain": [
       "[1, 2, 3, 4, 5, 6, 8, 9]"
      ]
     },
     "execution_count": 35,
     "metadata": {},
     "output_type": "execute_result"
    }
   ],
   "source": [
    "lst"
   ]
  },
  {
   "cell_type": "markdown",
   "id": "6d8ec347",
   "metadata": {},
   "source": [
    "##### Various operations that we can perform in list"
   ]
  },
  {
   "cell_type": "code",
   "execution_count": 36,
   "id": "d35ef0e6",
   "metadata": {},
   "outputs": [
    {
     "data": {
      "text/plain": [
       "15"
      ]
     },
     "execution_count": 36,
     "metadata": {},
     "output_type": "execute_result"
    }
   ],
   "source": [
    "lst=[1,2,3,4,5]\n",
    "sum(lst)"
   ]
  },
  {
   "cell_type": "code",
   "execution_count": null,
   "id": "fd9ae930",
   "metadata": {},
   "outputs": [
    {
     "data": {
      "text/plain": [
       "[1, 2, 3, 4, 5, 1, 2, 3, 4, 5, 1, 2, 3, 4, 5, 1, 2, 3, 4, 5, 1, 2, 3, 4, 5]"
      ]
     },
     "execution_count": 37,
     "metadata": {},
     "output_type": "execute_result"
    }
   ],
   "source": [
    "lst*5# 5 types append ho rha hai"
   ]
  },
  {
   "cell_type": "code",
   "execution_count": 38,
   "id": "8afdb694",
   "metadata": {},
   "outputs": [
    {
     "name": "stdout",
     "output_type": "stream",
     "text": [
      "0.2\n",
      "0.4\n",
      "0.6\n",
      "0.8\n",
      "1.0\n"
     ]
    }
   ],
   "source": [
    "for i in lst:\n",
    "    print(i/5)"
   ]
  },
  {
   "cell_type": "markdown",
   "id": "8592ca56",
   "metadata": {},
   "source": [
    "#### Pop() method"
   ]
  },
  {
   "cell_type": "code",
   "execution_count": null,
   "id": "cdcc2d5f",
   "metadata": {},
   "outputs": [
    {
     "data": {
      "text/plain": [
       "5"
      ]
     },
     "execution_count": 39,
     "metadata": {},
     "output_type": "execute_result"
    }
   ],
   "source": [
    "lst=[1,2,3,4,5]\n",
    "lst.pop()#last element ko pop kar dega aur yeh ek aisa method hai jo list ko bhi update kar rha hai"
   ]
  },
  {
   "cell_type": "code",
   "execution_count": 41,
   "id": "1d95ce8c",
   "metadata": {},
   "outputs": [
    {
     "data": {
      "text/plain": [
       "[1, 2, 3, 4]"
      ]
     },
     "execution_count": 41,
     "metadata": {},
     "output_type": "execute_result"
    }
   ],
   "source": [
    "lst"
   ]
  },
  {
   "cell_type": "code",
   "execution_count": 42,
   "id": "ea1b11bd",
   "metadata": {},
   "outputs": [
    {
     "data": {
      "text/plain": [
       "3"
      ]
     },
     "execution_count": 42,
     "metadata": {},
     "output_type": "execute_result"
    }
   ],
   "source": [
    "lst.pop(2)"
   ]
  },
  {
   "cell_type": "markdown",
   "id": "e2d469a1",
   "metadata": {},
   "source": [
    "##### count(): calculates total occurrence of given element of list"
   ]
  },
  {
   "cell_type": "code",
   "execution_count": 43,
   "id": "537867d8",
   "metadata": {},
   "outputs": [
    {
     "data": {
      "text/plain": [
       "2"
      ]
     },
     "execution_count": 43,
     "metadata": {},
     "output_type": "execute_result"
    }
   ],
   "source": [
    "lst=[1,1,2,3,4,5]\n",
    "lst.count(1)"
   ]
  },
  {
   "cell_type": "markdown",
   "id": "0ddcf963",
   "metadata": {},
   "source": [
    "* index"
   ]
  }
 ],
 "metadata": {
  "kernelspec": {
   "display_name": "Python 3",
   "language": "python",
   "name": "python3"
  },
  "language_info": {
   "codemirror_mode": {
    "name": "ipython",
    "version": 3
   },
   "file_extension": ".py",
   "mimetype": "text/x-python",
   "name": "python",
   "nbconvert_exporter": "python",
   "pygments_lexer": "ipython3",
   "version": "3.11.5"
  }
 },
 "nbformat": 4,
 "nbformat_minor": 5
}
