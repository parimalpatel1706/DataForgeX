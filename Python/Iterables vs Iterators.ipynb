{
 "cells": [
  {
   "cell_type": "markdown",
   "id": "387ea43b",
   "metadata": {},
   "source": [
    "#### Python List Iterables vs Iterators"
   ]
  },
  {
   "cell_type": "code",
   "execution_count": 9,
   "id": "eab4cb88",
   "metadata": {},
   "outputs": [
    {
     "name": "stdout",
     "output_type": "stream",
     "text": [
      "1\n",
      "2\n",
      "3\n",
      "4\n",
      "5\n",
      "6\n",
      "7\n",
      "8\n"
     ]
    }
   ],
   "source": [
    "## list is iterable\n",
    "lst=[1,2,3,4,5,6,7,8]\n",
    "for i in lst:\n",
    "    print(i)"
   ]
  },
  {
   "cell_type": "code",
   "execution_count": 10,
   "id": "aa9c69ed",
   "metadata": {},
   "outputs": [],
   "source": [
    "lst1=iter(lst)## it is inbuilt function it will create or will actually convert list into iterator"
   ]
  },
  {
   "cell_type": "code",
   "execution_count": 11,
   "id": "39c535c7",
   "metadata": {},
   "outputs": [
    {
     "data": {
      "text/plain": [
       "<list_iterator at 0x2bafb8a3b50>"
      ]
     },
     "execution_count": 11,
     "metadata": {},
     "output_type": "execute_result"
    }
   ],
   "source": [
    "lst1"
   ]
  },
  {
   "cell_type": "code",
   "execution_count": 12,
   "id": "229e583d",
   "metadata": {},
   "outputs": [
    {
     "data": {
      "text/plain": [
       "1"
      ]
     },
     "execution_count": 12,
     "metadata": {},
     "output_type": "execute_result"
    }
   ],
   "source": [
    "next(lst1)## next function is used for retrieve the data"
   ]
  },
  {
   "cell_type": "code",
   "execution_count": 13,
   "id": "b8385b92",
   "metadata": {},
   "outputs": [
    {
     "name": "stdout",
     "output_type": "stream",
     "text": [
      "2\n",
      "3\n",
      "4\n",
      "5\n",
      "6\n",
      "7\n",
      "8\n"
     ]
    }
   ],
   "source": [
    "for i in lst1:\n",
    "    print(i)"
   ]
  },
  {
   "cell_type": "markdown",
   "id": "6aa6d142",
   "metadata": {},
   "source": [
    "##### properties of Iterator\n",
    "1. as soon as you intialize the list all the values are saved in the  different different memeory loaction whereas in case of iterations not all the value are stored in memory location or it is not intialized in the memory location as soon as we call one function which is called as next \n",
    "2. only one element stored in a memory at a time\n",
    "3. iterator can also traverse by using for loop"
   ]
  },
  {
   "cell_type": "markdown",
   "id": "eb0c580b",
   "metadata": {},
   "source": [
    "We use iterators in Python to access elements one at a time efficiently without loading everything into memory, enabling fast, memory-friendly looping."
   ]
  }
 ],
 "metadata": {
  "kernelspec": {
   "display_name": "Python 3",
   "language": "python",
   "name": "python3"
  },
  "language_info": {
   "codemirror_mode": {
    "name": "ipython",
    "version": 3
   },
   "file_extension": ".py",
   "mimetype": "text/x-python",
   "name": "python",
   "nbconvert_exporter": "python",
   "pygments_lexer": "ipython3",
   "version": "3.11.5"
  }
 },
 "nbformat": 4,
 "nbformat_minor": 5
}
