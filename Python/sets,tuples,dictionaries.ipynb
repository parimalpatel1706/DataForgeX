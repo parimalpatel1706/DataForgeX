{
 "cells": [
  {
   "cell_type": "markdown",
   "id": "7217c137",
   "metadata": {},
   "source": [
    "#### Sets:-> \n",
    "A Set is an unordered collection data type that is iterable, mutable, and has no duplicate elements. Python's set class represents the mathematical notion of a set.This is based on a data structure known as a hash table\n"
   ]
  },
  {
   "cell_type": "code",
   "execution_count": 4,
   "id": "1c2fd997",
   "metadata": {},
   "outputs": [
    {
     "data": {
      "text/plain": [
       "set"
      ]
     },
     "execution_count": 4,
     "metadata": {},
     "output_type": "execute_result"
    }
   ],
   "source": [
    "type({1,2,3,4,5,'parimal'})"
   ]
  },
  {
   "cell_type": "code",
   "execution_count": 6,
   "id": "2c48fd61",
   "metadata": {},
   "outputs": [
    {
     "name": "stdout",
     "output_type": "stream",
     "text": [
      "{1, 2, 3, 4, 5}\n"
     ]
    }
   ],
   "source": [
    "print(set([1,2,3,4,5,5]))"
   ]
  },
  {
   "cell_type": "code",
   "execution_count": null,
   "id": "36a4605f",
   "metadata": {},
   "outputs": [
    {
     "name": "stdout",
     "output_type": "stream",
     "text": [
      "{'piyush', 'siddhart', 'parimal'}\n",
      "{'piyush', 'siddhart', 'parimal'}\n"
     ]
    }
   ],
   "source": [
    "set_var={\"parimal\",\"siddhart\",\"piyush\"}\n",
    "print(set_var)#It is unordered, which means the order of items when printed is not guaranteed.\n",
    "\n",
    "#The order can change every time you run the program.\n",
    "\n",
    "#Internally, sets use a hashing mechanism to store elements, which is why they appear in a different order.\n",
    "print(set_var)"
   ]
  },
  {
   "cell_type": "code",
   "execution_count": null,
   "id": "2f24d469",
   "metadata": {},
   "outputs": [],
   "source": [
    "## indexing se element nhi udha sakte hai hai sets ke under because it is not subscritable,,, List is subscritable but sets is not,,, items assign bhi nhi kar skte hai"
   ]
  },
  {
   "cell_type": "code",
   "execution_count": 12,
   "id": "a76a54ad",
   "metadata": {},
   "outputs": [
    {
     "name": "stdout",
     "output_type": "stream",
     "text": [
      "piyush\n",
      "siddhart\n",
      "parimal\n"
     ]
    }
   ],
   "source": [
    "# by iterate\n",
    "for i in set_var:\n",
    "    print(i)"
   ]
  },
  {
   "cell_type": "code",
   "execution_count": null,
   "id": "cc09a41d",
   "metadata": {},
   "outputs": [],
   "source": [
    "# inbuilt function in sets\n",
    "set_var.add(\"patel\")# its add element in sort order"
   ]
  },
  {
   "cell_type": "code",
   "execution_count": 14,
   "id": "0dbe4edd",
   "metadata": {},
   "outputs": [
    {
     "data": {
      "text/plain": [
       "{'parimal', 'patel', 'piyush', 'siddhart'}"
      ]
     },
     "execution_count": 14,
     "metadata": {},
     "output_type": "execute_result"
    }
   ],
   "source": [
    "set_var"
   ]
  },
  {
   "cell_type": "code",
   "execution_count": 17,
   "id": "591874e3",
   "metadata": {},
   "outputs": [
    {
     "name": "stdout",
     "output_type": "stream",
     "text": [
      "{1, 2, 3, 4, 6, 7}\n",
      "{0, 1, 2, 3, 4, 6, 7}\n"
     ]
    }
   ],
   "source": [
    "set_1=set([4,2,3,1,6,7])\n",
    "print(set_1)\n",
    "set_1.add(0)\n",
    "print(set_1)"
   ]
  },
  {
   "cell_type": "code",
   "execution_count": 18,
   "id": "acf86749",
   "metadata": {},
   "outputs": [],
   "source": [
    "set1={\"parimal\",\"siddhart\",\"piyush\"}\n",
    "set2={\"parimal\",\"siddhart\",\"piyush\",\"parth\"}"
   ]
  },
  {
   "cell_type": "code",
   "execution_count": null,
   "id": "7090c8d9",
   "metadata": {},
   "outputs": [
    {
     "data": {
      "text/plain": [
       "{'parimal', 'piyush', 'siddhart'}"
      ]
     },
     "execution_count": 19,
     "metadata": {},
     "output_type": "execute_result"
    }
   ],
   "source": [
    "#intersection :- not updated\n",
    "set2.intersection(set1)"
   ]
  },
  {
   "cell_type": "code",
   "execution_count": null,
   "id": "18ac7068",
   "metadata": {},
   "outputs": [
    {
     "data": {
      "text/plain": [
       "{'parimal', 'piyush', 'siddhart'}"
      ]
     },
     "execution_count": 21,
     "metadata": {},
     "output_type": "execute_result"
    }
   ],
   "source": [
    "# intersection_update:- it will update the value in another set\n",
    "set2.intersection_update(set1)\n",
    "set2"
   ]
  },
  {
   "cell_type": "code",
   "execution_count": 24,
   "id": "5e2eb389",
   "metadata": {},
   "outputs": [
    {
     "data": {
      "text/plain": [
       "{'parimal', 'piyush', 'siddhart'}"
      ]
     },
     "execution_count": 24,
     "metadata": {},
     "output_type": "execute_result"
    }
   ],
   "source": [
    "# set difference\n",
    "set2.difference(set1)\n",
    "set1"
   ]
  },
  {
   "cell_type": "code",
   "execution_count": 26,
   "id": "6e8b2aac",
   "metadata": {},
   "outputs": [
    {
     "name": "stdout",
     "output_type": "stream",
     "text": [
      "set()\n"
     ]
    }
   ],
   "source": [
    "# set difference_update\n",
    "set2.difference_update(set1)\n",
    "print(set2)"
   ]
  },
  {
   "cell_type": "code",
   "execution_count": 27,
   "id": "283fa7e5",
   "metadata": {},
   "outputs": [],
   "source": [
    "\n",
    "set1={\"Avengers\",\"IronMan\",'Hitman'}\n",
    "set2={\"Avengers\",\"IronMan\",'Hitman','Hulk2'}"
   ]
  },
  {
   "cell_type": "code",
   "execution_count": null,
   "id": "eaa7071f",
   "metadata": {},
   "outputs": [
    {
     "data": {
      "text/plain": [
       "True"
      ]
     },
     "execution_count": 28,
     "metadata": {},
     "output_type": "execute_result"
    }
   ],
   "source": [
    "set2.issuperset(set1)#whether set2 is a superset of set1, set1 ke element already set2 mein present hai aur set2 mein jada element h toh set1 ke sare element agar set2 mein mil jate hai toh set2 is a superset of set1"
   ]
  },
  {
   "cell_type": "code",
   "execution_count": 29,
   "id": "882e4853",
   "metadata": {},
   "outputs": [
    {
     "data": {
      "text/plain": [
       "True"
      ]
     },
     "execution_count": 29,
     "metadata": {},
     "output_type": "execute_result"
    }
   ],
   "source": [
    "set1.issubset(set2)"
   ]
  },
  {
   "cell_type": "markdown",
   "id": "6640571e",
   "metadata": {},
   "source": [
    "### Dictionaries:->\n",
    "A dictionary is a collection which is unordered, changeable and indexed. In Python dictionaries are written with curly brackets, and they have keys and values."
   ]
  },
  {
   "cell_type": "code",
   "execution_count": 32,
   "id": "b86972da",
   "metadata": {},
   "outputs": [
    {
     "data": {
      "text/plain": [
       "dict"
      ]
     },
     "execution_count": 32,
     "metadata": {},
     "output_type": "execute_result"
    }
   ],
   "source": [
    "type({1:\"parimal\"})"
   ]
  },
  {
   "cell_type": "code",
   "execution_count": 41,
   "id": "f8774747",
   "metadata": {},
   "outputs": [
    {
     "name": "stdout",
     "output_type": "stream",
     "text": [
      "<class 'dict'>\n"
     ]
    }
   ],
   "source": [
    "print(type(dict))\n"
   ]
  },
  {
   "cell_type": "code",
   "execution_count": 46,
   "id": "a9d7d254",
   "metadata": {},
   "outputs": [
    {
     "data": {
      "text/plain": [
       "{'name': 'parimal', 'age': 31, 'last_name': 'patel'}"
      ]
     },
     "execution_count": 46,
     "metadata": {},
     "output_type": "execute_result"
    }
   ],
   "source": [
    "\n",
    "dict(name=\"parimal\",age=31,last_name=\"patel\")\n"
   ]
  },
  {
   "cell_type": "code",
   "execution_count": 47,
   "id": "b58f8cf3",
   "metadata": {},
   "outputs": [],
   "source": [
    "## let create a dictionary\n",
    "my_dict={\"car1\":\"audi\",\"car2\":\"BMW\",\"car3\":\"Mercidies Benz\"}"
   ]
  },
  {
   "cell_type": "code",
   "execution_count": 48,
   "id": "10fc315c",
   "metadata": {},
   "outputs": [
    {
     "data": {
      "text/plain": [
       "dict"
      ]
     },
     "execution_count": 48,
     "metadata": {},
     "output_type": "execute_result"
    }
   ],
   "source": [
    "type(my_dict)"
   ]
  },
  {
   "cell_type": "code",
   "execution_count": null,
   "id": "45a1120c",
   "metadata": {},
   "outputs": [
    {
     "data": {
      "text/plain": [
       "'audi'"
      ]
     },
     "execution_count": 49,
     "metadata": {},
     "output_type": "execute_result"
    }
   ],
   "source": [
    "## indexing\n",
    "my_dict[\"car1\"]## key name likhna h indexing mein"
   ]
  },
  {
   "cell_type": "code",
   "execution_count": 50,
   "id": "228e37e4",
   "metadata": {},
   "outputs": [
    {
     "data": {
      "text/plain": [
       "dict_items([('car1', 'audi'), ('car2', 'BMW'), ('car3', 'Mercidies Benz')])"
      ]
     },
     "execution_count": 50,
     "metadata": {},
     "output_type": "execute_result"
    }
   ],
   "source": [
    "#inbuilt function\n",
    "my_dict.items()"
   ]
  },
  {
   "cell_type": "code",
   "execution_count": 51,
   "id": "7eaeaa6b",
   "metadata": {},
   "outputs": [
    {
     "data": {
      "text/plain": [
       "dict_keys(['car1', 'car2', 'car3'])"
      ]
     },
     "execution_count": 51,
     "metadata": {},
     "output_type": "execute_result"
    }
   ],
   "source": [
    "my_dict.keys()"
   ]
  },
  {
   "cell_type": "code",
   "execution_count": 52,
   "id": "24993510",
   "metadata": {},
   "outputs": [
    {
     "data": {
      "text/plain": [
       "dict_values(['audi', 'BMW', 'Mercidies Benz'])"
      ]
     },
     "execution_count": 52,
     "metadata": {},
     "output_type": "execute_result"
    }
   ],
   "source": [
    "my_dict.values()"
   ]
  },
  {
   "cell_type": "code",
   "execution_count": null,
   "id": "f261755c",
   "metadata": {},
   "outputs": [
    {
     "name": "stdout",
     "output_type": "stream",
     "text": [
      "car1\n",
      "car2\n",
      "car3\n"
     ]
    }
   ],
   "source": [
    "#we can even loop through the dictionaries keys\n",
    "for x in my_dict:\n",
    "    print(x)## keys \n",
    "    "
   ]
  },
  {
   "cell_type": "code",
   "execution_count": 56,
   "id": "78edd9c1",
   "metadata": {},
   "outputs": [
    {
     "name": "stdout",
     "output_type": "stream",
     "text": [
      "audi\n",
      "BMW\n",
      "Mercidies Benz\n"
     ]
    }
   ],
   "source": [
    "for x in my_dict.values():\n",
    "    print(x)"
   ]
  },
  {
   "cell_type": "code",
   "execution_count": 57,
   "id": "34093a00",
   "metadata": {},
   "outputs": [
    {
     "name": "stdout",
     "output_type": "stream",
     "text": [
      "('car1', 'audi')\n",
      "('car2', 'BMW')\n",
      "('car3', 'Mercidies Benz')\n"
     ]
    }
   ],
   "source": [
    "for x in my_dict.items():\n",
    "    print(x)"
   ]
  },
  {
   "cell_type": "code",
   "execution_count": 59,
   "id": "ed229214",
   "metadata": {},
   "outputs": [
    {
     "data": {
      "text/plain": [
       "{'car1': 'audi', 'car2': 'BMW', 'car3': 'Mercidies Benz', 'car4': 'Audi 2.0'}"
      ]
     },
     "execution_count": 59,
     "metadata": {},
     "output_type": "execute_result"
    }
   ],
   "source": [
    "## adding items in Dictionaries\n",
    "my_dict['car4']=\"Audi 2.0\"\n",
    "my_dict"
   ]
  },
  {
   "cell_type": "markdown",
   "id": "595b8d5b",
   "metadata": {},
   "source": [
    "#### Nested Dictionary"
   ]
  },
  {
   "cell_type": "code",
   "execution_count": 60,
   "id": "619a56ce",
   "metadata": {},
   "outputs": [],
   "source": [
    "\n",
    "car1_model={'Mercedes':1960}\n",
    "car2_model={'Audi':1970}\n",
    "car3_model={'Ambassador':1980}\n",
    "\n",
    "car_type={'car1':car1_model,'car2':car2_model,'car3':car3_model}"
   ]
  },
  {
   "cell_type": "code",
   "execution_count": 61,
   "id": "8c7658e1",
   "metadata": {},
   "outputs": [
    {
     "name": "stdout",
     "output_type": "stream",
     "text": [
      "{'car1': {'Mercedes': 1960}, 'car2': {'Audi': 1970}, 'car3': {'Ambassador': 1980}}\n"
     ]
    }
   ],
   "source": [
    "print(car_type)"
   ]
  },
  {
   "cell_type": "code",
   "execution_count": 63,
   "id": "1e3d0978",
   "metadata": {},
   "outputs": [
    {
     "data": {
      "text/plain": [
       "1960"
      ]
     },
     "execution_count": 63,
     "metadata": {},
     "output_type": "execute_result"
    }
   ],
   "source": [
    "# accessing element in neseted \n",
    "car_type['car1']['Mercedes'] "
   ]
  },
  {
   "cell_type": "markdown",
   "id": "8b7433bc",
   "metadata": {},
   "source": [
    "### Tuples:->"
   ]
  },
  {
   "cell_type": "code",
   "execution_count": 64,
   "id": "f7779f6b",
   "metadata": {},
   "outputs": [
    {
     "name": "stdout",
     "output_type": "stream",
     "text": [
      "(1, 2, 3, 4, 5)\n"
     ]
    }
   ],
   "source": [
    "my_tuple=(1,2,3,4,5)\n",
    "print(my_tuple)"
   ]
  },
  {
   "cell_type": "code",
   "execution_count": null,
   "id": "ebbba629",
   "metadata": {},
   "outputs": [
    {
     "data": {
      "text/plain": [
       "4"
      ]
     },
     "execution_count": 65,
     "metadata": {},
     "output_type": "execute_result"
    }
   ],
   "source": [
    "# inbuilt function:- count and index\n",
    "my_tuple.index(5)"
   ]
  },
  {
   "cell_type": "code",
   "execution_count": 66,
   "id": "4860818a",
   "metadata": {},
   "outputs": [
    {
     "data": {
      "text/plain": [
       "1"
      ]
     },
     "execution_count": 66,
     "metadata": {},
     "output_type": "execute_result"
    }
   ],
   "source": [
    "my_tuple.count(1)"
   ]
  }
 ],
 "metadata": {
  "kernelspec": {
   "display_name": "Python 3",
   "language": "python",
   "name": "python3"
  },
  "language_info": {
   "codemirror_mode": {
    "name": "ipython",
    "version": 3
   },
   "file_extension": ".py",
   "mimetype": "text/x-python",
   "name": "python",
   "nbconvert_exporter": "python",
   "pygments_lexer": "ipython3",
   "version": "3.11.5"
  }
 },
 "nbformat": 4,
 "nbformat_minor": 5
}
