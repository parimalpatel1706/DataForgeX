{
 "cells": [
  {
   "cell_type": "markdown",
   "id": "2a58641a",
   "metadata": {},
   "source": [
    "# Python Tutorial\n",
    "- Datatype "
   ]
  },
  {
   "cell_type": "code",
   "execution_count": 1,
   "id": "9bf6774f",
   "metadata": {},
   "outputs": [
    {
     "data": {
      "text/plain": [
       "16"
      ]
     },
     "execution_count": 1,
     "metadata": {},
     "output_type": "execute_result"
    }
   ],
   "source": [
    "# NUmber or int or All maths operation\n",
    "2+5\n",
    "6-3\n",
    "6*9\n",
    "8/4\n",
    "10%2\n",
    "4**2"
   ]
  },
  {
   "cell_type": "code",
   "execution_count": 2,
   "id": "24933f3f",
   "metadata": {},
   "outputs": [
    {
     "data": {
      "text/plain": [
       "bool"
      ]
     },
     "execution_count": 2,
     "metadata": {},
     "output_type": "execute_result"
    }
   ],
   "source": [
    "# Check the data type for that we have built function that is type()\n",
    "type(1)\n",
    "type(\"parimal\")\n",
    "type(5.5)\n",
    "type(True)"
   ]
  },
  {
   "cell_type": "markdown",
   "id": "0467e00d",
   "metadata": {},
   "source": [
    "Strings"
   ]
  },
  {
   "cell_type": "code",
   "execution_count": 3,
   "id": "c256adfe",
   "metadata": {},
   "outputs": [
    {
     "data": {
      "text/plain": [
       "str"
      ]
     },
     "execution_count": 3,
     "metadata": {},
     "output_type": "execute_result"
    }
   ],
   "source": [
    "\"hello\"\n",
    "'parimal'\n",
    "type('parimal')"
   ]
  },
  {
   "cell_type": "markdown",
   "id": "f5c0c85c",
   "metadata": {},
   "source": [
    "Variable Assigment\n",
    "- syntax : var_name=values"
   ]
  },
  {
   "cell_type": "code",
   "execution_count": 4,
   "id": "5f7f8212",
   "metadata": {},
   "outputs": [
    {
     "data": {
      "text/plain": [
       "str"
      ]
     },
     "execution_count": 4,
     "metadata": {},
     "output_type": "execute_result"
    }
   ],
   "source": [
    "a=10\n",
    "type(a)\n",
    "a='parimal'\n",
    "type(a)"
   ]
  },
  {
   "cell_type": "code",
   "execution_count": 5,
   "id": "6e59a0b9",
   "metadata": {},
   "outputs": [
    {
     "name": "stdout",
     "output_type": "stream",
     "text": [
      "30\n",
      "-10\n",
      "200\n",
      "0.5\n",
      "10\n",
      "200.5\n"
     ]
    }
   ],
   "source": [
    "# Mathematical operation with variable assigment\n",
    "a=10\n",
    "b=20\n",
    "print(a+b)\n",
    "print(a-b)\n",
    "print(a*b)\n",
    "print(a/b)\n",
    "print(a%b)\n",
    "print((a*b)+(a/b))# BODMAS"
   ]
  },
  {
   "cell_type": "markdown",
   "id": "69e41371",
   "metadata": {},
   "source": [
    "##### Python data structures and boolean"
   ]
  },
  {
   "cell_type": "code",
   "execution_count": 7,
   "id": "fc28131a",
   "metadata": {},
   "outputs": [
    {
     "data": {
      "text/plain": [
       "bool"
      ]
     },
     "execution_count": 7,
     "metadata": {},
     "output_type": "execute_result"
    }
   ],
   "source": [
    "# boolean variable\n",
    "bool()\n",
    "type(False)"
   ]
  },
  {
   "cell_type": "code",
   "execution_count": null,
   "id": "1b9ca8f2",
   "metadata": {},
   "outputs": [
    {
     "name": "stdout",
     "output_type": "stream",
     "text": [
      "False\n",
      "False\n",
      "False\n",
      "True\n",
      "False\n",
      "False\n",
      "False\n",
      "True\n",
      "True\n"
     ]
    }
   ],
   "source": [
    "# boolean inbuilt function\n",
    "my_str=\"Parimal Patel\"\n",
    "print(my_str.isalnum())\n",
    "print(my_str.isalpha())\n",
    "print(my_str.isdigit())\n",
    "print(my_str.istitle())\n",
    "print(my_str.isupper())\n",
    "print(my_str.islower())\n",
    "print(my_str.isspace())\n",
    "print(my_str.endswith(\"l\"))\n",
    "print(my_str.startswith(\"P\"))"
   ]
  },
  {
   "cell_type": "code",
   "execution_count": 26,
   "id": "fb679a2c",
   "metadata": {},
   "outputs": [
    {
     "name": "stdout",
     "output_type": "stream",
     "text": [
      "True\n",
      "False\n",
      "True\n",
      "True\n"
     ]
    }
   ],
   "source": [
    "# boolean and logical operators\n",
    "print(True and True)\n",
    "print(True and False)\n",
    "print(True or False)\n",
    "print(True or True)"
   ]
  },
  {
   "cell_type": "code",
   "execution_count": 27,
   "id": "380babec",
   "metadata": {},
   "outputs": [
    {
     "data": {
      "text/plain": [
       "True"
      ]
     },
     "execution_count": 27,
     "metadata": {},
     "output_type": "execute_result"
    }
   ],
   "source": [
    "str_example='hello world'\n",
    "my_str='parimal'\n",
    "my_str.isalpha() or str_example.isnum()"
   ]
  },
  {
   "cell_type": "code",
   "execution_count": 1,
   "id": "02242b86",
   "metadata": {},
   "outputs": [
    {
     "name": "stdout",
     "output_type": "stream",
     "text": [
      "the value of a:- 10\n"
     ]
    }
   ],
   "source": [
    "# string formatting\n",
    "a=10\n",
    "print(\"the value of a:-\",a)\n"
   ]
  },
  {
   "cell_type": "code",
   "execution_count": 3,
   "id": "c46e2834",
   "metadata": {},
   "outputs": [
    {
     "name": "stdout",
     "output_type": "stream",
     "text": [
      "the first name is parimal and last name is patel\n"
     ]
    }
   ],
   "source": [
    "first_name='parimal'\n",
    "last_name='patel'\n",
    "print(\"the first name is {} and last name is {}\".format(first_name,last_name)\n",
    ")"
   ]
  },
  {
   "cell_type": "code",
   "execution_count": 4,
   "id": "ca1d9edc",
   "metadata": {},
   "outputs": [
    {
     "name": "stdout",
     "output_type": "stream",
     "text": [
      "the first name is parimal and last name is patel\n"
     ]
    }
   ],
   "source": [
    "first_name='parimal'\n",
    "last_name='patel'\n",
    "print(\"the first name is {0} and last name is {1}\".format(first_name,last_name)\n",
    ")"
   ]
  },
  {
   "cell_type": "code",
   "execution_count": null,
   "id": "b613cb39",
   "metadata": {},
   "outputs": [
    {
     "name": "stdout",
     "output_type": "stream",
     "text": [
      "the number:- 10\n"
     ]
    }
   ],
   "source": [
    "#input type\n",
    "#input function\n",
    "a=int(input(\"enter the number\"))\n",
    "print(\"the number:-\",a)"
   ]
  },
  {
   "cell_type": "code",
   "execution_count": null,
   "id": "0430708b",
   "metadata": {},
   "outputs": [
    {
     "name": "stdout",
     "output_type": "stream",
     "text": [
      "25\n"
     ]
    }
   ],
   "source": [
    "a=input(\"enter the nuber A:\")\n",
    "b=input(\"enter the nuber B:\")\n",
    "print(int(a)+int(b))#type casting"
   ]
  }
 ],
 "metadata": {
  "kernelspec": {
   "display_name": "Python 3",
   "language": "python",
   "name": "python3"
  },
  "language_info": {
   "codemirror_mode": {
    "name": "ipython",
    "version": 3
   },
   "file_extension": ".py",
   "mimetype": "text/x-python",
   "name": "python",
   "nbconvert_exporter": "python",
   "pygments_lexer": "ipython3",
   "version": "3.11.5"
  }
 },
 "nbformat": 4,
 "nbformat_minor": 5
}
