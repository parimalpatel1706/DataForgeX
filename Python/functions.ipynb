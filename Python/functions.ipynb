{
 "cells": [
  {
   "cell_type": "markdown",
   "id": "1e4452e8",
   "metadata": {},
   "source": [
    "### Functions in Python\n",
    "Functions in Python. A function is a set of statements that take inputs, do some specific computation and produces output. These functions are called user defined function"
   ]
  },
  {
   "cell_type": "code",
   "execution_count": null,
   "id": "eec9993e",
   "metadata": {},
   "outputs": [],
   "source": [
    "def even_odd(num):## function definition\n",
    "    if num%2==0:\n",
    "        print(\"number is even\")\n",
    "    else:\n",
    "        print(\"number is odd\")"
   ]
  },
  {
   "cell_type": "code",
   "execution_count": null,
   "id": "0cc423c4",
   "metadata": {},
   "outputs": [
    {
     "name": "stdout",
     "output_type": "stream",
     "text": [
      "number is odd\n"
     ]
    }
   ],
   "source": [
    "even_odd(25)## function called"
   ]
  },
  {
   "cell_type": "code",
   "execution_count": 4,
   "id": "1faa7f5b",
   "metadata": {},
   "outputs": [],
   "source": [
    "## print vs return\n",
    "def hello_world():\n",
    "    return \"hello welcome\""
   ]
  },
  {
   "cell_type": "code",
   "execution_count": 5,
   "id": "aa3151f2",
   "metadata": {},
   "outputs": [],
   "source": [
    "val=hello_world()"
   ]
  },
  {
   "cell_type": "code",
   "execution_count": 6,
   "id": "aacec52e",
   "metadata": {},
   "outputs": [
    {
     "name": "stdout",
     "output_type": "stream",
     "text": [
      "hello welcome\n"
     ]
    }
   ],
   "source": [
    "print(val)"
   ]
  },
  {
   "cell_type": "code",
   "execution_count": 7,
   "id": "28ec5b6c",
   "metadata": {},
   "outputs": [],
   "source": [
    "def add_numbers(num1,num2):\n",
    "    return num1+num2"
   ]
  },
  {
   "cell_type": "code",
   "execution_count": 8,
   "id": "b96cab48",
   "metadata": {},
   "outputs": [
    {
     "data": {
      "text/plain": [
       "72"
      ]
     },
     "execution_count": 8,
     "metadata": {},
     "output_type": "execute_result"
    }
   ],
   "source": [
    "val=add_numbers(24,48)\n",
    "val"
   ]
  },
  {
   "cell_type": "code",
   "execution_count": null,
   "id": "082005c0",
   "metadata": {},
   "outputs": [],
   "source": [
    "## postional argument\n",
    "## keyword argument\n",
    "def hello(name,age=19):\n",
    "    print(\"my name is {} and my age is {}\".format(name,age))"
   ]
  },
  {
   "cell_type": "code",
   "execution_count": 12,
   "id": "a4adef64",
   "metadata": {},
   "outputs": [
    {
     "name": "stdout",
     "output_type": "stream",
     "text": [
      "my name is Parimal and my age is 19\n"
     ]
    }
   ],
   "source": [
    "hello(\"Parimal\")"
   ]
  },
  {
   "cell_type": "code",
   "execution_count": null,
   "id": "3195bf6d",
   "metadata": {},
   "outputs": [],
   "source": [
    "## other way to write positional and keyword argument\n",
    "def hello(*args, **kwargs):\n",
    "    print(args)## postion argument\n",
    "    print(kwargs)## keyword argument"
   ]
  },
  {
   "cell_type": "code",
   "execution_count": 14,
   "id": "89a70505",
   "metadata": {},
   "outputs": [
    {
     "name": "stdout",
     "output_type": "stream",
     "text": [
      "('Parimal', 'Patel')\n",
      "{'age': 29, 'dob': 2005}\n"
     ]
    }
   ],
   "source": [
    "hello(\"Parimal\",\"Patel\",age=29,dob=2005)"
   ]
  },
  {
   "cell_type": "code",
   "execution_count": 15,
   "id": "c6a5055a",
   "metadata": {},
   "outputs": [],
   "source": [
    "lst=['Parimal', 'Patel']\n",
    "dict_args={'age':29,'dob':2005}"
   ]
  },
  {
   "cell_type": "code",
   "execution_count": 16,
   "id": "98fda58f",
   "metadata": {},
   "outputs": [
    {
     "name": "stdout",
     "output_type": "stream",
     "text": [
      "('Parimal', 'Patel')\n",
      "{'age': 29, 'dob': 2005}\n"
     ]
    }
   ],
   "source": [
    "hello(*lst,**dict_args)"
   ]
  },
  {
   "cell_type": "code",
   "execution_count": 17,
   "id": "70829f03",
   "metadata": {},
   "outputs": [],
   "source": [
    "lst=[1,2,3,4,5,6,7]"
   ]
  },
  {
   "cell_type": "code",
   "execution_count": 18,
   "id": "840c0252",
   "metadata": {},
   "outputs": [],
   "source": [
    "def evenoddsum(lst):\n",
    "    even_sum=0\n",
    "    odd_sum=0\n",
    "    for i in lst:\n",
    "        if i%2==0:\n",
    "            even_sum=even_sum+i\n",
    "        else:\n",
    "            odd_sum=odd_sum+i\n",
    "    return even_sum,odd_sum"
   ]
  },
  {
   "cell_type": "code",
   "execution_count": 19,
   "id": "8afd9dc1",
   "metadata": {},
   "outputs": [
    {
     "data": {
      "text/plain": [
       "(12, 16)"
      ]
     },
     "execution_count": 19,
     "metadata": {},
     "output_type": "execute_result"
    }
   ],
   "source": [
    "evenoddsum(lst)"
   ]
  }
 ],
 "metadata": {
  "kernelspec": {
   "display_name": "Python 3",
   "language": "python",
   "name": "python3"
  },
  "language_info": {
   "codemirror_mode": {
    "name": "ipython",
    "version": 3
   },
   "file_extension": ".py",
   "mimetype": "text/x-python",
   "name": "python",
   "nbconvert_exporter": "python",
   "pygments_lexer": "ipython3",
   "version": "3.11.5"
  }
 },
 "nbformat": 4,
 "nbformat_minor": 5
}
