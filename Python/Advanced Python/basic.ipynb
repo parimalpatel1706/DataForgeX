{
 "cells": [
  {
   "cell_type": "markdown",
   "id": "131a842b",
   "metadata": {},
   "source": [
    "is keyword Vs  =="
   ]
  },
  {
   "cell_type": "code",
   "execution_count": 125,
   "id": "e233d2af",
   "metadata": {},
   "outputs": [
    {
     "data": {
      "text/plain": [
       "True"
      ]
     },
     "execution_count": 125,
     "metadata": {},
     "output_type": "execute_result"
    }
   ],
   "source": [
    "lst1=[\"parimal\",\"parimal1\",\"parimal2\"]\n",
    "lst2=[\"parimal\",\"parimal1\",\"parimal2\"]\n",
    "lst1==lst2## comapring two lists whether they are equal or not"
   ]
  },
  {
   "cell_type": "code",
   "execution_count": 126,
   "id": "24fe785d",
   "metadata": {},
   "outputs": [
    {
     "data": {
      "text/plain": [
       "True"
      ]
     },
     "execution_count": 126,
     "metadata": {},
     "output_type": "execute_result"
    }
   ],
   "source": [
    "## is keyword \n",
    "lst1=[\"parimal\",\"parimal1\",\"parimal2\"]\n",
    "lst2=lst1\n",
    "lst1 is lst2## here is create only one object and that is reffered by the both variables"
   ]
  },
  {
   "cell_type": "code",
   "execution_count": 127,
   "id": "be87e12a",
   "metadata": {},
   "outputs": [
    {
     "data": {
      "text/plain": [
       "True"
      ]
     },
     "execution_count": 127,
     "metadata": {},
     "output_type": "execute_result"
    }
   ],
   "source": [
    "lst2 is lst1"
   ]
  },
  {
   "cell_type": "markdown",
   "id": "cc98edc1",
   "metadata": {},
   "source": [
    "| Feature              | `is`                                          | `==`                                       |\n",
    "|----------------------|-----------------------------------------------|---------------------------------------------|\n",
    "| Meaning              | Checks **object identity**                    | Checks **value equality**                   |\n",
    "| Compares             | Memory address (location in memory)           | The actual data (contents)                  |\n",
    "| Returns `True` when  | Both operands refer to the **same object**    | Both operands have **equal values**         |\n",
    "| Common Use Case      | Comparing singletons like `None`, `True`      | Comparing strings, lists, numbers, etc.     |\n",
    "| Example (True Case)  | `a = b = [1, 2]; a is b → True`               | `a = [1, 2]; b = [1, 2]; a == b → True`     |\n",
    "| Example (False Case) | `a = [1, 2]; b = [1, 2]; a is b → False`      | `a = [1, 2]; b = [1, 2]; a == b → True`     |\n",
    "| Used With            | `None`, caching, type checking, etc.          | All objects where value matters             |\n"
   ]
  },
  {
   "cell_type": "markdown",
   "id": "41fdd512",
   "metadata": {},
   "source": [
    "#### Shallow Copy Vs Deep Copy"
   ]
  },
  {
   "cell_type": "markdown",
   "id": "e8b19c0a",
   "metadata": {},
   "source": [
    "## Shallow Copy vs Deep Copy\n",
    "\n",
    "| Feature               | Shallow Copy                                         | Deep Copy                                                |\n",
    "|-----------------------|------------------------------------------------------|-----------------------------------------------------------|\n",
    "| Definition            | Creates a new object but inserts references to the same objects inside. | Creates a new object and recursively copies all objects inside. |\n",
    "| Affects Nested Objects| Yes (changes in nested mutable objects reflect in both copies) | No (nested objects are also duplicated)                  |\n",
    "| Memory                | More memory-efficient                               | More memory-consuming                                     |\n",
    "| Use Module            | `copy.copy()`                                        | `copy.deepcopy()`                                         |\n",
    "| Performance           | Faster                                               | Slower due to full object copy                            |\n",
    "| Example Code          | `shallow = copy.copy(original)`                      | `deep = copy.deepcopy(original)`                          |\n"
   ]
  },
  {
   "cell_type": "code",
   "execution_count": 151,
   "id": "50f894a6",
   "metadata": {},
   "outputs": [],
   "source": [
    "## =:->This does not create a new list. Instead, it creates a new reference to the same list object in memory\n",
    "lst1=[1,2,3,4]\n",
    "lst2=lst1"
   ]
  },
  {
   "cell_type": "code",
   "execution_count": 152,
   "id": "3f5e12c0",
   "metadata": {},
   "outputs": [
    {
     "data": {
      "text/plain": [
       "([1, 2, 3, 4], [1, 2, 3, 4])"
      ]
     },
     "execution_count": 152,
     "metadata": {},
     "output_type": "execute_result"
    }
   ],
   "source": [
    "lst1,lst2"
   ]
  },
  {
   "cell_type": "code",
   "execution_count": 153,
   "id": "ab913492",
   "metadata": {},
   "outputs": [],
   "source": [
    "lst2[1]=1000"
   ]
  },
  {
   "cell_type": "code",
   "execution_count": 154,
   "id": "dd7320b0",
   "metadata": {},
   "outputs": [
    {
     "data": {
      "text/plain": [
       "[1, 1000, 3, 4]"
      ]
     },
     "execution_count": 154,
     "metadata": {},
     "output_type": "execute_result"
    }
   ],
   "source": [
    "lst1"
   ]
  },
  {
   "cell_type": "code",
   "execution_count": 155,
   "id": "b5b50be1",
   "metadata": {},
   "outputs": [],
   "source": [
    "## Copy\n",
    "## shallow copy:-> in this both have different memory location so it will not referring that means list one is different and list 2 is aslo different\n",
    "lst1=[1,2,3,4]\n",
    "lst2=lst1.copy()"
   ]
  },
  {
   "cell_type": "code",
   "execution_count": 156,
   "id": "358515b3",
   "metadata": {},
   "outputs": [],
   "source": [
    "lst2[1]=100"
   ]
  },
  {
   "cell_type": "code",
   "execution_count": 157,
   "id": "5de92d09",
   "metadata": {},
   "outputs": [
    {
     "data": {
      "text/plain": [
       "([1, 2, 3, 4], [1, 100, 3, 4])"
      ]
     },
     "execution_count": 157,
     "metadata": {},
     "output_type": "execute_result"
    }
   ],
   "source": [
    "lst1,lst2"
   ]
  },
  {
   "cell_type": "code",
   "execution_count": 158,
   "id": "43d21d71",
   "metadata": {},
   "outputs": [],
   "source": [
    "## Shallow copy with nested list:-> A shallow copy of a nested list creates a new outer list, but inner nested lists still reference the same objects, so changes to inner elements affect both copies.\n",
    "lst1=[[1,2,3,4],[5,6,7,8]]\n",
    "lst2=lst1.copy()"
   ]
  },
  {
   "cell_type": "code",
   "execution_count": 159,
   "id": "042b0bf7",
   "metadata": {},
   "outputs": [
    {
     "data": {
      "text/plain": [
       "([[1, 2, 3, 4], [5, 6, 7, 8]], [[1, 2, 3, 4], [5, 6, 7, 8]])"
      ]
     },
     "execution_count": 159,
     "metadata": {},
     "output_type": "execute_result"
    }
   ],
   "source": [
    "lst1,lst2"
   ]
  },
  {
   "cell_type": "code",
   "execution_count": 160,
   "id": "3b3ebb9b",
   "metadata": {},
   "outputs": [],
   "source": [
    "lst1[1][0]=100"
   ]
  },
  {
   "cell_type": "code",
   "execution_count": 161,
   "id": "96a9e76d",
   "metadata": {},
   "outputs": [
    {
     "data": {
      "text/plain": [
       "[[1, 2, 3, 4], [100, 6, 7, 8]]"
      ]
     },
     "execution_count": 161,
     "metadata": {},
     "output_type": "execute_result"
    }
   ],
   "source": [
    "lst2"
   ]
  },
  {
   "cell_type": "code",
   "execution_count": 162,
   "id": "20d676df",
   "metadata": {},
   "outputs": [],
   "source": [
    "lst1.append([2,3,4,5])##If you copy a list using copy() or slicing ([:]), appending to one list won't affect the other, because they are now separate objects in memory."
   ]
  },
  {
   "cell_type": "code",
   "execution_count": 163,
   "id": "ac0dd1ba",
   "metadata": {},
   "outputs": [
    {
     "data": {
      "text/plain": [
       "[[1, 2, 3, 4], [100, 6, 7, 8], [2, 3, 4, 5]]"
      ]
     },
     "execution_count": 163,
     "metadata": {},
     "output_type": "execute_result"
    }
   ],
   "source": [
    "lst1"
   ]
  },
  {
   "cell_type": "code",
   "execution_count": 164,
   "id": "24687de1",
   "metadata": {},
   "outputs": [
    {
     "data": {
      "text/plain": [
       "[[1, 2, 3, 4], [100, 6, 7, 8]]"
      ]
     },
     "execution_count": 164,
     "metadata": {},
     "output_type": "execute_result"
    }
   ],
   "source": [
    "lst2"
   ]
  },
  {
   "cell_type": "code",
   "execution_count": 165,
   "id": "021a55da",
   "metadata": {},
   "outputs": [],
   "source": [
    "## Deep copy\n",
    "import copy\n",
    "lst1=[1,2,3,4]\n",
    "lst2=copy.deepcopy(lst1)"
   ]
  },
  {
   "cell_type": "code",
   "execution_count": 166,
   "id": "4827a650",
   "metadata": {},
   "outputs": [],
   "source": [
    "lst2[1]=100"
   ]
  },
  {
   "cell_type": "code",
   "execution_count": 167,
   "id": "1dce3c01",
   "metadata": {},
   "outputs": [
    {
     "data": {
      "text/plain": [
       "([1, 2, 3, 4], [1, 100, 3, 4])"
      ]
     },
     "execution_count": 167,
     "metadata": {},
     "output_type": "execute_result"
    }
   ],
   "source": [
    "lst1,lst2"
   ]
  },
  {
   "cell_type": "code",
   "execution_count": 168,
   "id": "086cb0b6",
   "metadata": {},
   "outputs": [],
   "source": [
    "### In a normal list shallow == deep copy"
   ]
  },
  {
   "cell_type": "code",
   "execution_count": 169,
   "id": "ad3ba444",
   "metadata": {},
   "outputs": [],
   "source": [
    "## in this case shallow copy is not equal to deep copy\n",
    "lst1=[[1,2,3],[3,4,5],[5,6,7]]\n",
    "lst2=copy.deepcopy(lst1)"
   ]
  },
  {
   "cell_type": "code",
   "execution_count": 170,
   "id": "dd8a3e0c",
   "metadata": {},
   "outputs": [
    {
     "data": {
      "text/plain": [
       "[[1, 2, 3], [3, 4, 5], [5, 6, 7]]"
      ]
     },
     "execution_count": 170,
     "metadata": {},
     "output_type": "execute_result"
    }
   ],
   "source": [
    "lst2"
   ]
  },
  {
   "cell_type": "code",
   "execution_count": 171,
   "id": "dc9f0f87",
   "metadata": {},
   "outputs": [],
   "source": [
    "lst2[1][0]=100"
   ]
  },
  {
   "cell_type": "code",
   "execution_count": 172,
   "id": "17a1e01d",
   "metadata": {},
   "outputs": [
    {
     "data": {
      "text/plain": [
       "([[1, 2, 3], [100, 4, 5], [5, 6, 7]], [[1, 2, 3], [3, 4, 5], [5, 6, 7]])"
      ]
     },
     "execution_count": 172,
     "metadata": {},
     "output_type": "execute_result"
    }
   ],
   "source": [
    "lst2,lst1"
   ]
  },
  {
   "cell_type": "code",
   "execution_count": 173,
   "id": "c9d9ab5c",
   "metadata": {},
   "outputs": [],
   "source": [
    "## in shallow copy both the list will updated but in deep copy only one list will updated"
   ]
  },
  {
   "cell_type": "markdown",
   "id": "0730b1cc",
   "metadata": {},
   "source": [
    "## import modin.pandas as pd :-> it will speedup Pandas by 4X times"
   ]
  }
 ],
 "metadata": {
  "kernelspec": {
   "display_name": "Python 3",
   "language": "python",
   "name": "python3"
  },
  "language_info": {
   "codemirror_mode": {
    "name": "ipython",
    "version": 3
   },
   "file_extension": ".py",
   "mimetype": "text/x-python",
   "name": "python",
   "nbconvert_exporter": "python",
   "pygments_lexer": "ipython3",
   "version": "3.11.5"
  }
 },
 "nbformat": 4,
 "nbformat_minor": 5
}
