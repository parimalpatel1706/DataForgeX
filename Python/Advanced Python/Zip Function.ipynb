{
 "cells": [
  {
   "cell_type": "markdown",
   "id": "a9c013c3",
   "metadata": {},
   "source": [
    "### Zip Function--Parallel Iteration\n",
    "zip function means that combining multiple elements in the form of tuples "
   ]
  },
  {
   "cell_type": "code",
   "execution_count": 11,
   "id": "a61ad59d",
   "metadata": {},
   "outputs": [],
   "source": [
    "lst1=[\"parimal\",\"sam\",\"john\"]\n",
    "lst2=['a','b','c']"
   ]
  },
  {
   "cell_type": "code",
   "execution_count": 12,
   "id": "d26431a9",
   "metadata": {},
   "outputs": [
    {
     "name": "stdout",
     "output_type": "stream",
     "text": [
      "parimal\n",
      "sam\n",
      "john\n"
     ]
    }
   ],
   "source": [
    "for i in lst1:\n",
    "    print(i)"
   ]
  },
  {
   "cell_type": "code",
   "execution_count": 13,
   "id": "a64a1d7f",
   "metadata": {},
   "outputs": [],
   "source": [
    "output=zip(lst1,lst2)"
   ]
  },
  {
   "cell_type": "code",
   "execution_count": 14,
   "id": "eabac4ee",
   "metadata": {},
   "outputs": [
    {
     "data": {
      "text/plain": [
       "<zip at 0x1a5211b3b00>"
      ]
     },
     "execution_count": 14,
     "metadata": {},
     "output_type": "execute_result"
    }
   ],
   "source": [
    "output"
   ]
  },
  {
   "cell_type": "code",
   "execution_count": null,
   "id": "5e195a4d",
   "metadata": {},
   "outputs": [
    {
     "data": {
      "text/plain": [
       "[('parimal', 'a'), ('sam', 'b'), ('john', 'c')]"
      ]
     },
     "execution_count": 5,
     "metadata": {},
     "output_type": "execute_result"
    }
   ],
   "source": [
    "list(output)## typecasting"
   ]
  },
  {
   "cell_type": "code",
   "execution_count": 9,
   "id": "a65b7a31",
   "metadata": {},
   "outputs": [
    {
     "data": {
      "text/plain": [
       "('parimal', 'a')"
      ]
     },
     "execution_count": 9,
     "metadata": {},
     "output_type": "execute_result"
    }
   ],
   "source": [
    "### zip object is an iterator\n",
    "next(output)"
   ]
  },
  {
   "cell_type": "code",
   "execution_count": 15,
   "id": "b8be9367",
   "metadata": {},
   "outputs": [
    {
     "name": "stdout",
     "output_type": "stream",
     "text": [
      "parimal a\n",
      "sam b\n",
      "john c\n"
     ]
    }
   ],
   "source": [
    "for i,j in output:\n",
    "    print(i,j)"
   ]
  },
  {
   "cell_type": "code",
   "execution_count": 18,
   "id": "3c84d15c",
   "metadata": {},
   "outputs": [],
   "source": [
    "## if we have three list\n",
    "lst1=[\"parimal\",\"sam\",\"john\"]\n",
    "lst2=['a','b','c']\n",
    "lst3=[1,2,3]"
   ]
  },
  {
   "cell_type": "code",
   "execution_count": 19,
   "id": "49071205",
   "metadata": {},
   "outputs": [
    {
     "name": "stdout",
     "output_type": "stream",
     "text": [
      "parimal a 1\n",
      "sam b 2\n",
      "john c 3\n"
     ]
    }
   ],
   "source": [
    "output=zip(lst1,lst2,lst3)\n",
    "for i,j,k in output:\n",
    "    print(i,j,k)"
   ]
  },
  {
   "cell_type": "code",
   "execution_count": 34,
   "id": "36ace5fe",
   "metadata": {},
   "outputs": [],
   "source": [
    "dict1={'name':'Parimal','last_name':'Patel','age':20}\n",
    "dict2={'name':'Pari','last_name':'Desai','age':19}"
   ]
  },
  {
   "cell_type": "code",
   "execution_count": 35,
   "id": "ca22d300",
   "metadata": {},
   "outputs": [],
   "source": [
    "dictionary=zip(dict1.items(),dict2.items())"
   ]
  },
  {
   "cell_type": "code",
   "execution_count": 36,
   "id": "4e916f1e",
   "metadata": {},
   "outputs": [
    {
     "name": "stdout",
     "output_type": "stream",
     "text": [
      "name Parimal\n",
      "name Pari\n",
      "last_name Patel\n",
      "last_name Desai\n",
      "age 20\n",
      "age 19\n"
     ]
    }
   ],
   "source": [
    "for (i,j),(i2,j2) in dictionary:\n",
    "    print(i,j)\n",
    "    print(i2,j2)"
   ]
  }
 ],
 "metadata": {
  "kernelspec": {
   "display_name": "Python 3",
   "language": "python",
   "name": "python3"
  },
  "language_info": {
   "codemirror_mode": {
    "name": "ipython",
    "version": 3
   },
   "file_extension": ".py",
   "mimetype": "text/x-python",
   "name": "python",
   "nbconvert_exporter": "python",
   "pygments_lexer": "ipython3",
   "version": "3.11.5"
  }
 },
 "nbformat": 4,
 "nbformat_minor": 5
}
