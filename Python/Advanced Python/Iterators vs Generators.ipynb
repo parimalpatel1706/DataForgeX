{
 "cells": [
  {
   "cell_type": "markdown",
   "id": "a4476ff7",
   "metadata": {},
   "source": [
    "##### Generators Vs Iterators"
   ]
  },
  {
   "cell_type": "code",
   "execution_count": 20,
   "id": "640705e2",
   "metadata": {},
   "outputs": [
    {
     "name": "stdout",
     "output_type": "stream",
     "text": [
      "1\n",
      "2\n",
      "3\n",
      "4\n"
     ]
    }
   ],
   "source": [
    "# iterable\n",
    "lst=[1,2,3,4]\n",
    "for i in lst:\n",
    "    print(i)"
   ]
  },
  {
   "cell_type": "code",
   "execution_count": 21,
   "id": "17c6500e",
   "metadata": {},
   "outputs": [],
   "source": [
    "## iterator\n",
    "iterable=iter(lst)"
   ]
  },
  {
   "cell_type": "code",
   "execution_count": 22,
   "id": "9b8bdced",
   "metadata": {},
   "outputs": [
    {
     "name": "stdout",
     "output_type": "stream",
     "text": [
      "1\n",
      "2\n",
      "3\n",
      "4\n"
     ]
    }
   ],
   "source": [
    "# we can iterate\n",
    "for i in iterable:\n",
    " print(i)"
   ]
  },
  {
   "cell_type": "code",
   "execution_count": 23,
   "id": "2a2bc3e2",
   "metadata": {},
   "outputs": [
    {
     "name": "stdout",
     "output_type": "stream",
     "text": [
      "the iterator is empty\n"
     ]
    }
   ],
   "source": [
    "try:\n",
    "    print(next(iterable))\n",
    "except StopIteration:\n",
    "    print(\"the iterator is empty\")"
   ]
  },
  {
   "cell_type": "code",
   "execution_count": null,
   "id": "b9a92b8e",
   "metadata": {},
   "outputs": [],
   "source": [
    "## generator\n",
    "## first entire function make iterator but it is a kind of generator\n",
    "## generator is used to in order to  create iterator\n",
    "#\"yield is used in Python to create a generator function that returns values one at a time, pausing and resuming execution, making it memory-efficient for large data processing.\"\n",
    "def square(n):\n",
    "    for i in range(n):\n",
    "        yield i**2"
   ]
  },
  {
   "cell_type": "code",
   "execution_count": 28,
   "id": "5f3b2fea",
   "metadata": {},
   "outputs": [
    {
     "name": "stdout",
     "output_type": "stream",
     "text": [
      "0\n",
      "1\n",
      "4\n"
     ]
    }
   ],
   "source": [
    "for i in square(3):\n",
    "    print(i)"
   ]
  },
  {
   "cell_type": "code",
   "execution_count": 29,
   "id": "d3093eed",
   "metadata": {},
   "outputs": [
    {
     "data": {
      "text/plain": [
       "<generator object square at 0x000001BD014E3E00>"
      ]
     },
     "execution_count": 29,
     "metadata": {},
     "output_type": "execute_result"
    }
   ],
   "source": [
    "a=square(3)\n",
    "a"
   ]
  },
  {
   "cell_type": "code",
   "execution_count": null,
   "id": "9a793f33",
   "metadata": {},
   "outputs": [],
   "source": [
    "next(a)"
   ]
  },
  {
   "cell_type": "markdown",
   "id": "abbc67af",
   "metadata": {},
   "source": [
    "| Feature                          | Iterator                                    | Generator                                           |\n",
    "|----------------------------------|---------------------------------------------|-----------------------------------------------------|\n",
    "| Creation                         | Created using `iter()`                      | Created using a function with the `yield` keyword   |\n",
    "| Syntax                           | Class with `__iter__()` and `__next__()`   | Function with `yield`                              |\n",
    "| Memory Efficiency                | Less memory efficient                       | More memory efficient                              |\n",
    "| Variable Saving                  | Does not automatically save local variables | Saves local variables between pauses               |\n",
    "| Code Length                      | Longer and more complex                     | Short and compact                                  |\n",
    "| Use Case                         | Used when full control is needed            | Ideal for large datasets or streaming data         |\n"
   ]
  },
  {
   "cell_type": "code",
   "execution_count": 36,
   "id": "87391661",
   "metadata": {},
   "outputs": [],
   "source": [
    "## realtion between generator and iterator for that we have import this library\n",
    "import types,collections"
   ]
  },
  {
   "cell_type": "code",
   "execution_count": 39,
   "id": "54ee0d1e",
   "metadata": {},
   "outputs": [
    {
     "data": {
      "text/plain": [
       "True"
      ]
     },
     "execution_count": 39,
     "metadata": {},
     "output_type": "execute_result"
    }
   ],
   "source": [
    "import types\n",
    "import collections.abc\n",
    "\n",
    "issubclass(types.GeneratorType, collections.abc.Iterator)\n"
   ]
  }
 ],
 "metadata": {
  "kernelspec": {
   "display_name": "Python 3",
   "language": "python",
   "name": "python3"
  },
  "language_info": {
   "codemirror_mode": {
    "name": "ipython",
    "version": 3
   },
   "file_extension": ".py",
   "mimetype": "text/x-python",
   "name": "python",
   "nbconvert_exporter": "python",
   "pygments_lexer": "ipython3",
   "version": "3.11.5"
  }
 },
 "nbformat": 4,
 "nbformat_minor": 5
}
