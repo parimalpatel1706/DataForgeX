{
 "cells": [
  {
   "cell_type": "markdown",
   "id": "63b785a9",
   "metadata": {},
   "source": [
    "##### Asynchronous Execution (Parallel Execution) With Thread"
   ]
  },
  {
   "cell_type": "code",
   "execution_count": 1,
   "id": "2b1c6b52",
   "metadata": {},
   "outputs": [],
   "source": [
    "import time\n",
    "from concurrent.futures import ThreadPoolExecutor\n",
    "def returnnumber(a):\n",
    "    time.sleep(1)\n",
    "    return a"
   ]
  },
  {
   "cell_type": "code",
   "execution_count": 2,
   "id": "8c2f5a78",
   "metadata": {},
   "outputs": [
    {
     "data": {
      "text/plain": [
       "12"
      ]
     },
     "execution_count": 2,
     "metadata": {},
     "output_type": "execute_result"
    }
   ],
   "source": [
    "returnnumber(12)"
   ]
  },
  {
   "cell_type": "code",
   "execution_count": 7,
   "id": "68ae02bd",
   "metadata": {},
   "outputs": [
    {
     "name": "stdout",
     "output_type": "stream",
     "text": [
      "Count: 0\n",
      "Count: 1\n",
      "Count: 2\n",
      "Count: 3\n",
      "Count: 4\n",
      "Count: 5\n",
      "Count: 6\n",
      "Count: 7\n",
      "Count: 8\n",
      "Count: 9\n",
      "Count: 10\n",
      "Count: 11\n",
      "Count: 12\n",
      "Count: 13\n",
      "Count: 14\n",
      "Count: 15\n",
      "Count: 16\n",
      "Count: 17\n",
      "Count: 18\n",
      "Count: 19\n",
      "Count: 20\n",
      "Count: 21\n",
      "Count: 22\n",
      "Count: 23\n",
      "Count: 24\n",
      "Count: 25\n",
      "Count: 26\n",
      "Count: 27\n",
      "Count: 28\n",
      "Count: 29\n",
      "the total time is :10.011278629302979\n"
     ]
    }
   ],
   "source": [
    "start=time.time()\n",
    "with ThreadPoolExecutor(max_workers=3) as executor:## here max_workers create a thread if we passing values then it run parallel thread\n",
    "    for result in executor.map(returnnumber,range(30)):\n",
    "        print(\"Count: {0}\".format(result))\n",
    "print(\"the total time is :{0}\".format(time.time()-start))"
   ]
  }
 ],
 "metadata": {
  "kernelspec": {
   "display_name": "Python 3",
   "language": "python",
   "name": "python3"
  },
  "language_info": {
   "codemirror_mode": {
    "name": "ipython",
    "version": 3
   },
   "file_extension": ".py",
   "mimetype": "text/x-python",
   "name": "python",
   "nbconvert_exporter": "python",
   "pygments_lexer": "ipython3",
   "version": "3.11.5"
  }
 },
 "nbformat": 4,
 "nbformat_minor": 5
}
