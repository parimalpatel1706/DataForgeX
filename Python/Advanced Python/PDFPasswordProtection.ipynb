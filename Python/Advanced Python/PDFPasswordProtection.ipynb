{
 "cells": [
  {
   "cell_type": "markdown",
   "id": "01bdc0db",
   "metadata": {},
   "source": [
    "#### PDF Password Protection Using Python"
   ]
  },
  {
   "cell_type": "code",
   "execution_count": null,
   "id": "fd6305cb",
   "metadata": {},
   "outputs": [],
   "source": [
    "## pip install PyPDF2"
   ]
  },
  {
   "cell_type": "code",
   "execution_count": 5,
   "id": "0c337aa7",
   "metadata": {},
   "outputs": [],
   "source": [
    "from PyPDF2 import PdfReader,PdfWriter"
   ]
  },
  {
   "cell_type": "code",
   "execution_count": 6,
   "id": "49066359",
   "metadata": {},
   "outputs": [],
   "source": [
    "## open the current pdf\n",
    "file_pdf=PdfReader(r\"C:\\Users\\PARIMAL\\OneDrive\\Desktop\\Data Science\\Python\\Advanced Python\\dms quiz.pdf\")\n",
    "## object for pdf writer \n",
    "out_pdf=PdfWriter()"
   ]
  },
  {
   "cell_type": "code",
   "execution_count": 7,
   "id": "ee2928ac",
   "metadata": {},
   "outputs": [
    {
     "data": {
      "text/plain": [
       "<PyPDF2._reader.PdfReader at 0x2f1f0873950>"
      ]
     },
     "execution_count": 7,
     "metadata": {},
     "output_type": "execute_result"
    }
   ],
   "source": [
    "file_pdf"
   ]
  },
  {
   "cell_type": "code",
   "execution_count": 11,
   "id": "c12eeb37",
   "metadata": {},
   "outputs": [
    {
     "name": "stdout",
     "output_type": "stream",
     "text": [
      "5\n"
     ]
    }
   ],
   "source": [
    "print(len(file_pdf.pages)) # it is used for to count the pages in the pdf"
   ]
  },
  {
   "cell_type": "code",
   "execution_count": 12,
   "id": "7fe758d5",
   "metadata": {},
   "outputs": [],
   "source": [
    "## to getting index of particular page\n",
    " ## for the adding of the page \n",
    "for i in range(len(file_pdf.pages)):\n",
    "    page_details = file_pdf.pages[i]\n",
    "    ### Add ti the output page\n",
    "    out_pdf.add_page(page_details)"
   ]
  },
  {
   "cell_type": "code",
   "execution_count": 13,
   "id": "6c1f597c",
   "metadata": {},
   "outputs": [],
   "source": [
    "password=\"Parimal123\"\n",
    "\n",
    "out_pdf.encrypt(password)"
   ]
  },
  {
   "cell_type": "code",
   "execution_count": 14,
   "id": "009c789b",
   "metadata": {},
   "outputs": [],
   "source": [
    "## now we have to write out_pdf in the form of PDF to get encrypted pdf itself\n",
    "with open(\"encryptedDMSQuiz.pdf\",\"wb\")as filename:\n",
    "    out_pdf.write(filename)"
   ]
  }
 ],
 "metadata": {
  "kernelspec": {
   "display_name": "Python 3",
   "language": "python",
   "name": "python3"
  },
  "language_info": {
   "codemirror_mode": {
    "name": "ipython",
    "version": 3
   },
   "file_extension": ".py",
   "mimetype": "text/x-python",
   "name": "python",
   "nbconvert_exporter": "python",
   "pygments_lexer": "ipython3",
   "version": "3.11.5"
  }
 },
 "nbformat": 4,
 "nbformat_minor": 5
}
