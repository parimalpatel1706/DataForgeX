{
 "cells": [
  {
   "cell_type": "markdown",
   "id": "1c037208",
   "metadata": {},
   "source": [
    "##### Numba :-> Numba is just in time compiler for pyhton that works best on codes that uses NumPy arrays and functions and loops.The most commom wat to use Numba is through its collection of decorators that can be applied to your functions to instruct Numba to compile them. When a call is made to a Numba decorated function it is complied to machine code \"just-in-time\" for execution and all part of your code can subsequently run at native machine code speed!"
   ]
  },
  {
   "cell_type": "code",
   "execution_count": null,
   "id": "d6bf5e0a",
   "metadata": {},
   "outputs": [],
   "source": [
    "# pip install numba"
   ]
  },
  {
   "cell_type": "code",
   "execution_count": 4,
   "id": "2b442a80",
   "metadata": {},
   "outputs": [
    {
     "name": "stdout",
     "output_type": "stream",
     "text": [
      "Elapsed(with compilation) =0.7299971580505371\n",
      "Elapsed(AFTER compilation) =0.0\n"
     ]
    }
   ],
   "source": [
    "from numba import jit\n",
    "import numpy as np\n",
    "import time\n",
    "\n",
    "x=np.arange(100).reshape(10,10)\n",
    "\n",
    "@jit(nopython =True)\n",
    "def go_fast(a): # function is complied and runs in machine code\n",
    "    trace = 0.0\n",
    "    for i in range(a.shape[0]):\n",
    "        trace +=np.tanh(a[i,i])\n",
    "    return a + trace\n",
    "\n",
    "## do not report this... COMPIPLATION TIME IS INCLUDED IN THE EXECUTION TIME!\n",
    "start = time.time()\n",
    "go_fast(x)\n",
    "end = time.time()\n",
    "print(\"Elapsed(with compilation) =%s\" %(end-start))\n",
    "\n",
    "# NOW THE FUNCTION IS COMPILED, RE-TIME IT EXECUTING FROM CACHE\n",
    "start = time.time()\n",
    "go_fast(x)\n",
    "end = time.time()\n",
    "print(\"Elapsed(AFTER compilation) =%s\" %(end-start))"
   ]
  }
 ],
 "metadata": {
  "kernelspec": {
   "display_name": "Python 3",
   "language": "python",
   "name": "python3"
  },
  "language_info": {
   "codemirror_mode": {
    "name": "ipython",
    "version": 3
   },
   "file_extension": ".py",
   "mimetype": "text/x-python",
   "name": "python",
   "nbconvert_exporter": "python",
   "pygments_lexer": "ipython3",
   "version": "3.11.5"
  }
 },
 "nbformat": 4,
 "nbformat_minor": 5
}
