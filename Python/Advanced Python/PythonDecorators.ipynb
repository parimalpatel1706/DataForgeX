{
 "cells": [
  {
   "cell_type": "markdown",
   "id": "eb738788",
   "metadata": {},
   "source": [
    "##### Python Decorators"
   ]
  },
  {
   "cell_type": "code",
   "execution_count": 1,
   "id": "c2f7d9ac",
   "metadata": {},
   "outputs": [],
   "source": [
    "# function copy\n",
    "# closures\n",
    "# decorators"
   ]
  },
  {
   "cell_type": "code",
   "execution_count": 7,
   "id": "76a9a00e",
   "metadata": {},
   "outputs": [],
   "source": [
    "# function copy\n",
    "def welcome():\n",
    "    return \"Wlecome to parimal house\""
   ]
  },
  {
   "cell_type": "code",
   "execution_count": null,
   "id": "b0b173ca",
   "metadata": {},
   "outputs": [],
   "source": [
    "wel=welcome()## we are copy this function into wel \n",
    "del welcome"
   ]
  },
  {
   "cell_type": "code",
   "execution_count": 13,
   "id": "9dd99457",
   "metadata": {},
   "outputs": [
    {
     "data": {
      "text/plain": [
       "'Wlecome to parimal house'"
      ]
     },
     "execution_count": 13,
     "metadata": {},
     "output_type": "execute_result"
    }
   ],
   "source": [
    "wel"
   ]
  },
  {
   "cell_type": "code",
   "execution_count": null,
   "id": "77f6d638",
   "metadata": {},
   "outputs": [],
   "source": [
    "# closures :-> whenver we write function inside a function is called as closures\n",
    "### the inner function is also accessible all things\n",
    "def main_welcome():\n",
    "    msg=\"Hello Everyone\"\n",
    "    def sub_welcome_class():\n",
    "        print(\"Welcome to parimal house\")\n",
    "        print(msg)\n",
    "        print(\"please visit it\")\n",
    "    return sub_welcome_class()\n"
   ]
  },
  {
   "cell_type": "code",
   "execution_count": 17,
   "id": "180e1058",
   "metadata": {},
   "outputs": [
    {
     "name": "stdout",
     "output_type": "stream",
     "text": [
      "Welcome to parimal house\n",
      "Hello Everyone\n",
      "please visit it\n"
     ]
    }
   ],
   "source": [
    "main_welcome()"
   ]
  },
  {
   "cell_type": "code",
   "execution_count": null,
   "id": "5d412f26",
   "metadata": {},
   "outputs": [],
   "source": [
    "##  Closures and initial Decorators\n",
    "def main_welcome(func):\n",
    "    msg=\"Hello Everyone\"\n",
    "    def sub_welcome_class():\n",
    "        print(\"Welcome to parimal house\")\n",
    "        func(\"home\")\n",
    "        print(\"please visit it\")\n",
    "    return sub_welcome_class()"
   ]
  },
  {
   "cell_type": "code",
   "execution_count": null,
   "id": "30c7f021",
   "metadata": {},
   "outputs": [
    {
     "name": "stdout",
     "output_type": "stream",
     "text": [
      "Welcome to parimal house\n",
      "home\n",
      "please visit it\n"
     ]
    }
   ],
   "source": [
    "main_welcome(print)## print is inbuilt function"
   ]
  },
  {
   "cell_type": "code",
   "execution_count": 27,
   "id": "304014c8",
   "metadata": {},
   "outputs": [],
   "source": [
    "def main_welcome(func):\n",
    "    msg=\"Hello Everyone\"\n",
    "    def sub_welcome_class():\n",
    "        print(\"Welcome to parimal house\")\n",
    "        print(func([1,2,3,4,5,6,7]))\n",
    "        print(\"please visit it\")\n",
    "    return sub_welcome_class()"
   ]
  },
  {
   "cell_type": "code",
   "execution_count": 28,
   "id": "74e5d3c7",
   "metadata": {},
   "outputs": [
    {
     "name": "stdout",
     "output_type": "stream",
     "text": [
      "Welcome to parimal house\n",
      "7\n",
      "please visit it\n"
     ]
    }
   ],
   "source": [
    "main_welcome(len)"
   ]
  },
  {
   "cell_type": "code",
   "execution_count": null,
   "id": "b89f6232",
   "metadata": {},
   "outputs": [],
   "source": [
    "#Decorators:-> whenver we write function inside a function we also give a parameter as  a function instead of sepecific variables\n",
    "def main_welcome(func):\n",
    "    msg=\"Hello Everyone\"\n",
    "    def sub_welcome_class():\n",
    "        print(\"Welcome to parimal house\")\n",
    "        func()\n",
    "        print(\"please visit it\")\n",
    "    return sub_welcome_class()"
   ]
  },
  {
   "cell_type": "code",
   "execution_count": null,
   "id": "10934cc8",
   "metadata": {},
   "outputs": [
    {
     "name": "stdout",
     "output_type": "stream",
     "text": [
      "Welcome to parimal house\n",
      "this is parimal channel\n",
      "please visit it\n"
     ]
    }
   ],
   "source": [
    "## creating own function\n",
    "@main_welcome## this is decorators\n",
    "def channel_name():\n",
    "    print(\"this is parimal channel\")"
   ]
  },
  {
   "cell_type": "code",
   "execution_count": null,
   "id": "93281ba3",
   "metadata": {},
   "outputs": [
    {
     "name": "stdout",
     "output_type": "stream",
     "text": [
      "Welcome to parimal house\n",
      "this is parimal channel\n",
      "please visit it\n"
     ]
    }
   ],
   "source": [
    "\n",
    "main_welcome(channel_name)"
   ]
  }
 ],
 "metadata": {
  "kernelspec": {
   "display_name": "Python 3",
   "language": "python",
   "name": "python3"
  },
  "language_info": {
   "codemirror_mode": {
    "name": "ipython",
    "version": 3
   },
   "file_extension": ".py",
   "mimetype": "text/x-python",
   "name": "python",
   "nbconvert_exporter": "python",
   "pygments_lexer": "ipython3",
   "version": "3.11.5"
  }
 },
 "nbformat": 4,
 "nbformat_minor": 5
}
