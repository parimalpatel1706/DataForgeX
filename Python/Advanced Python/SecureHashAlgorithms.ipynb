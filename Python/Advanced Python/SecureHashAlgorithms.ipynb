{
 "cells": [
  {
   "cell_type": "markdown",
   "id": "39203b83",
   "metadata": {},
   "source": [
    "##### SHA, ( Secure Hash Algorithms )- Base Of BlockChain\n",
    "\n",
    "* SHA256 : This hash function belong to hash class SHA-2, the internal block size of it is 32 bits.\n",
    "* SHA384 : This hash function belong to hash class SHA-2, the internal block size of it is 32 bits. This is one of the truncated version.\n",
    "* SHA224 : This hash function belong to hash class SHA-2, the internal block size of it is 32 bits. This is one of the truncated version.\n",
    "* SHA512 : This hash function belong to hash class SHA-2, the internal block size of it is 64 bits.\n",
    "* SHA1 : The 160 bit hash function that resembles MD5 hash in working and was discontinued to be used seeing its security vulnerabilities."
   ]
  },
  {
   "cell_type": "code",
   "execution_count": 9,
   "id": "4b292bd3",
   "metadata": {},
   "outputs": [],
   "source": [
    "import hashlib"
   ]
  },
  {
   "cell_type": "markdown",
   "id": "5f6d9f58",
   "metadata": {},
   "source": [
    "##### SHA256"
   ]
  },
  {
   "cell_type": "code",
   "execution_count": 10,
   "id": "8d623505",
   "metadata": {},
   "outputs": [
    {
     "name": "stdout",
     "output_type": "stream",
     "text": [
      "<sha256 _hashlib.HASH object @ 0x0000021DB2457810>\n"
     ]
    }
   ],
   "source": [
    "str1=\"Parimal Patel\"\n",
    "## proess of Hashing\n",
    "## First step is to encode\n",
    "## Then apply Hasing Algorithms\n",
    "hashedval=hashlib.sha256(str1.encode())\n",
    "print(hashedval)"
   ]
  },
  {
   "cell_type": "markdown",
   "id": "01b97823",
   "metadata": {},
   "source": [
    "why it is called SHA256? because it has 64 character,each character is represent by 4 bytes and each bits is represented by 8 bits then 64*4=256"
   ]
  },
  {
   "cell_type": "code",
   "execution_count": 11,
   "id": "813523ce",
   "metadata": {},
   "outputs": [
    {
     "data": {
      "text/plain": [
       "'9489e21158cfaff8da8cd58c2acea376c89fa50f347be5917ed0c667d46125dd'"
      ]
     },
     "execution_count": 11,
     "metadata": {},
     "output_type": "execute_result"
    }
   ],
   "source": [
    "## convert this value into hexadecimal\n",
    "hashedval.hexdigest()"
   ]
  },
  {
   "cell_type": "markdown",
   "id": "f40e20c5",
   "metadata": {},
   "source": [
    "##### SHA384"
   ]
  },
  {
   "cell_type": "code",
   "execution_count": 12,
   "id": "68ec5a61",
   "metadata": {},
   "outputs": [
    {
     "data": {
      "text/plain": [
       "'eb0c8678307dbc638222eda04c6c19bd5fff487af2d7da90638e077fefa237673488fa87ddb64b562279869138790184'"
      ]
     },
     "execution_count": 12,
     "metadata": {},
     "output_type": "execute_result"
    }
   ],
   "source": [
    "hashedval=hashlib.sha384(str1.encode())\n",
    "hashedval.hexdigest()\n",
    "#len(hashedval.hexdigest())"
   ]
  },
  {
   "cell_type": "markdown",
   "id": "91157ab1",
   "metadata": {},
   "source": [
    "why it is called SHA384? because it has 96 character,each character is represent by 4 bytes and each bits is represented by 8 bits then 96*4=384"
   ]
  },
  {
   "cell_type": "markdown",
   "id": "1ff44db4",
   "metadata": {},
   "source": [
    "##### SHA224"
   ]
  },
  {
   "cell_type": "code",
   "execution_count": 14,
   "id": "8c0c9fd7",
   "metadata": {},
   "outputs": [
    {
     "data": {
      "text/plain": [
       "'5d7a190ac5eccc9b1053293fd95dad0046828cf02708fff945d8e25a'"
      ]
     },
     "execution_count": 14,
     "metadata": {},
     "output_type": "execute_result"
    }
   ],
   "source": [
    "hashedval=hashlib.sha224(str1.encode())\n",
    "hashedval.hexdigest()\n",
    "#len(hashedval.hexdigest())"
   ]
  },
  {
   "cell_type": "markdown",
   "id": "cc3ea456",
   "metadata": {},
   "source": [
    "why it is called SHA224? because it has 56 character,each character is represent by 4 bytes and each bits is represented by 8 bits then 56*4=224"
   ]
  },
  {
   "cell_type": "markdown",
   "id": "4fe99a05",
   "metadata": {},
   "source": [
    "##### SHA512"
   ]
  },
  {
   "cell_type": "code",
   "execution_count": 17,
   "id": "85722f02",
   "metadata": {},
   "outputs": [
    {
     "data": {
      "text/plain": [
       "'911e993b2d35e4baca53b2d28fc85d1b6b9e1a6b3aa47a8cadbf77f56c6cde4e2f23ca1961d45fa02d3096a62d8007d02def3b0956e316acd2c47c16589ce6ce'"
      ]
     },
     "execution_count": 17,
     "metadata": {},
     "output_type": "execute_result"
    }
   ],
   "source": [
    "hashedval=hashlib.sha512(str1.encode())\n",
    "hashedval.hexdigest()\n",
    "#len(hashedval.hexdigest())"
   ]
  },
  {
   "cell_type": "markdown",
   "id": "58db7c10",
   "metadata": {},
   "source": [
    "why it is called SHA512? because it has 128 character,each character is represent by 4 bytes and each bits is represented by 8 bits then 128*4=512"
   ]
  },
  {
   "cell_type": "markdown",
   "id": "7374ede0",
   "metadata": {},
   "source": [
    "##### SHA1"
   ]
  },
  {
   "cell_type": "code",
   "execution_count": 18,
   "id": "a0034a33",
   "metadata": {},
   "outputs": [
    {
     "data": {
      "text/plain": [
       "'1e020e578a0ed3545645a576a98711d1e3f798a9'"
      ]
     },
     "execution_count": 18,
     "metadata": {},
     "output_type": "execute_result"
    }
   ],
   "source": [
    "hashedval=hashlib.sha1(str1.encode())\n",
    "hashedval.hexdigest()"
   ]
  }
 ],
 "metadata": {
  "kernelspec": {
   "display_name": "Python 3",
   "language": "python",
   "name": "python3"
  },
  "language_info": {
   "codemirror_mode": {
    "name": "ipython",
    "version": 3
   },
   "file_extension": ".py",
   "mimetype": "text/x-python",
   "name": "python",
   "nbconvert_exporter": "python",
   "pygments_lexer": "ipython3",
   "version": "3.11.5"
  }
 },
 "nbformat": 4,
 "nbformat_minor": 5
}
