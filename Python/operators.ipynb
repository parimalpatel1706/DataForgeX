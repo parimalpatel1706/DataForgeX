{
 "cells": [
  {
   "cell_type": "markdown",
   "id": "093d73fc",
   "metadata": {},
   "source": [
    "#### Python Operators\n",
    "* Logical\n",
    "* Equality\n",
    "* Comparsion\n",
    "* Arithmetic"
   ]
  },
  {
   "cell_type": "markdown",
   "id": "2a71eeec",
   "metadata": {},
   "source": [
    "### 4.1.1 Logical Operators\n",
    "\n",
    "In Python, the following keywords are used for boolean operations:\n",
    "\n",
    "| **Keyword** | **Meaning**          |\n",
    "|-------------|----------------------|\n",
    "| `not`       | Unary negation       |\n",
    "| `and`       | Conditional AND      |\n",
    "| `or`        | Conditional OR       |\n"
   ]
  },
  {
   "cell_type": "code",
   "execution_count": 8,
   "id": "0bab9586",
   "metadata": {},
   "outputs": [],
   "source": [
    "# logical\n",
    "a= True\n",
    "b= False"
   ]
  },
  {
   "cell_type": "code",
   "execution_count": 9,
   "id": "92f44cda",
   "metadata": {},
   "outputs": [
    {
     "data": {
      "text/plain": [
       "False"
      ]
     },
     "execution_count": 9,
     "metadata": {},
     "output_type": "execute_result"
    }
   ],
   "source": [
    "True and False"
   ]
  },
  {
   "cell_type": "code",
   "execution_count": 10,
   "id": "540711a9",
   "metadata": {},
   "outputs": [
    {
     "data": {
      "text/plain": [
       "True"
      ]
     },
     "execution_count": 10,
     "metadata": {},
     "output_type": "execute_result"
    }
   ],
   "source": [
    "True or False"
   ]
  },
  {
   "cell_type": "code",
   "execution_count": 11,
   "id": "6d095575",
   "metadata": {},
   "outputs": [
    {
     "data": {
      "text/plain": [
       "False"
      ]
     },
     "execution_count": 11,
     "metadata": {},
     "output_type": "execute_result"
    }
   ],
   "source": [
    "not True"
   ]
  },
  {
   "cell_type": "code",
   "execution_count": 12,
   "id": "0d6144bf",
   "metadata": {},
   "outputs": [],
   "source": [
    "age=int(input(\"enter the age\"))\n",
    "if(age>18 and age<=35):\n",
    "    print(\"mid age\")"
   ]
  },
  {
   "cell_type": "code",
   "execution_count": null,
   "id": "9e710567",
   "metadata": {},
   "outputs": [],
   "source": [
    "age=int(input(\"enter the age\"))\n",
    "if(age>18 or age>=35):\n",
    "    print(\"successful execution\")"
   ]
  },
  {
   "cell_type": "markdown",
   "id": "2fb7a989",
   "metadata": {},
   "source": [
    "### Equality Operators\n",
    "\n",
    "The following operators are used in Python for equality checks:\n",
    "\n",
    "| **Operator** | **Meaning**                                                                 |\n",
    "|--------------|------------------------------------------------------------------------------|\n",
    "| `is`         | `a is b` returns `True` if variables `a` and `b` **point to the same object** |\n",
    "| `is not`     | `a is not b` returns `True` if `a` and `b` **point to different objects**     |\n",
    "| `==`         | `a == b` returns `True` if `a` and `b` have **the same value**               |\n",
    "| `!=`         | `a != b` returns `True` if `a` and `b` have **different values**             |\n"
   ]
  },
  {
   "cell_type": "code",
   "execution_count": 15,
   "id": "417a2e4d",
   "metadata": {},
   "outputs": [
    {
     "data": {
      "text/plain": [
       "True"
      ]
     },
     "execution_count": 15,
     "metadata": {},
     "output_type": "execute_result"
    }
   ],
   "source": [
    "a=\"krish\"\n",
    "b=\"krish\"\n",
    "a==b#two variale ka value check karta hai if value is same then it return true otherwise false"
   ]
  },
  {
   "cell_type": "code",
   "execution_count": 16,
   "id": "86bedc61",
   "metadata": {},
   "outputs": [
    {
     "name": "stdout",
     "output_type": "stream",
     "text": [
      "you are in the teenager age\n"
     ]
    }
   ],
   "source": [
    "age=int(input(\"enter the age\"))\n",
    "if age==18:\n",
    "    print(\"you are in the teenager age\")"
   ]
  },
  {
   "cell_type": "code",
   "execution_count": 20,
   "id": "625b6be6",
   "metadata": {},
   "outputs": [
    {
     "name": "stdout",
     "output_type": "stream",
     "text": [
      "2632620594160\n",
      "2632620594160\n"
     ]
    },
    {
     "data": {
      "text/plain": [
       "True"
      ]
     },
     "execution_count": 20,
     "metadata": {},
     "output_type": "execute_result"
    }
   ],
   "source": [
    "a='parimal'\n",
    "b='parimal'\n",
    "print(id(a))\n",
    "print(id(b))\n",
    "a is b # memory loaction par check karta hai, same object par pointed hai ki nhi ::: whether it pointing to same location or not"
   ]
  },
  {
   "cell_type": "code",
   "execution_count": 24,
   "id": "3379ed40",
   "metadata": {},
   "outputs": [
    {
     "name": "stdout",
     "output_type": "stream",
     "text": [
      "2632620975232\n",
      "2632620721472\n"
     ]
    },
    {
     "data": {
      "text/plain": [
       "False"
      ]
     },
     "execution_count": 24,
     "metadata": {},
     "output_type": "execute_result"
    }
   ],
   "source": [
    "lst=[1,2,3]\n",
    "lstd=[1,2,3]\n",
    "print(id(lst))\n",
    "print(id(lstd))\n",
    "##jab bhi hum collection wala item bante hai toh unka jo object create hota hai woh different tarike se hota hai aur yeh variable different differnt object ko point kar rhe hai even the vakue is same\n",
    "lst is lstd"
   ]
  },
  {
   "cell_type": "code",
   "execution_count": 25,
   "id": "2e029483",
   "metadata": {},
   "outputs": [
    {
     "data": {
      "text/plain": [
       "True"
      ]
     },
     "execution_count": 25,
     "metadata": {},
     "output_type": "execute_result"
    }
   ],
   "source": [
    "lst is not lstd"
   ]
  },
  {
   "cell_type": "code",
   "execution_count": 26,
   "id": "bc4791e4",
   "metadata": {},
   "outputs": [
    {
     "data": {
      "text/plain": [
       "True"
      ]
     },
     "execution_count": 26,
     "metadata": {},
     "output_type": "execute_result"
    }
   ],
   "source": [
    "\"parimal\"!= \"parimal1\""
   ]
  },
  {
   "cell_type": "markdown",
   "id": "6a106cec",
   "metadata": {},
   "source": [
    "## Comparison Operators\n",
    "\n",
    "The following comparison operators are used in Python:\n",
    "\n",
    "| **Operator** | **Meaning**                    |\n",
    "|:------------:|:------------------------------:|\n",
    "| `<`          | Less than                      |\n",
    "| `<=`         | Less than or equal to          |\n",
    "| `>`          | Greater than                   |\n",
    "| `>=`         | Greater than or equal to       |\n"
   ]
  },
  {
   "cell_type": "code",
   "execution_count": 30,
   "id": "260f08d0",
   "metadata": {},
   "outputs": [
    {
     "name": "stdout",
     "output_type": "stream",
     "text": [
      "Pass\n",
      "First Class\n"
     ]
    }
   ],
   "source": [
    "marks = int(input(\"Enter the marks: \"))\n",
    "\n",
    "if marks >= 35:\n",
    "    print(\"Pass\")\n",
    "    if marks >= 50 and marks <= 70:\n",
    "        print(\"First Class\")\n",
    "elif marks < 35:\n",
    "    print(\"Fail\")\n"
   ]
  },
  {
   "cell_type": "markdown",
   "id": "d6b47fb1",
   "metadata": {},
   "source": [
    "## Arithmetic Operators\n",
    "\n",
    "| **Operator** | **Meaning**            |\n",
    "|:------------:|:----------------------:|\n",
    "| `+`          | Addition               |\n",
    "| `-`          | Subtraction            |\n",
    "| `*`          | Multiplication         |\n",
    "| `/`          | True Division          |\n",
    "| `//`         | Integer Division       |\n",
    "| `%`          | Modulo (Remainder)     |\n"
   ]
  }
 ],
 "metadata": {
  "kernelspec": {
   "display_name": "Python 3",
   "language": "python",
   "name": "python3"
  },
  "language_info": {
   "codemirror_mode": {
    "name": "ipython",
    "version": 3
   },
   "file_extension": ".py",
   "mimetype": "text/x-python",
   "name": "python",
   "nbconvert_exporter": "python",
   "pygments_lexer": "ipython3",
   "version": "3.11.5"
  }
 },
 "nbformat": 4,
 "nbformat_minor": 5
}
