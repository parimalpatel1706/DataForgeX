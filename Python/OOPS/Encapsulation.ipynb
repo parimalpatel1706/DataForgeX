{
 "cells": [
  {
   "cell_type": "markdown",
   "id": "20118c41",
   "metadata": {},
   "source": [
    "#### Encapsulation\n",
    "Encapsulation is a fundamental principle in object-oriented programming that focuses on bundling data and the methods that operate on that data into a single unit called a class. It allows you to control the access and visibility of the data and methods, providing a way to protect and organize your code\n",
    "\n",
    "kuchh hide kar rhe hai bass"
   ]
  },
  {
   "cell_type": "markdown",
   "id": "c1d88daf",
   "metadata": {},
   "source": [
    "##### Access Modifier \n",
    "1. public\n",
    "2. protected\n",
    "3. private"
   ]
  },
  {
   "cell_type": "code",
   "execution_count": null,
   "id": "8009ced6",
   "metadata": {},
   "outputs": [],
   "source": [
    "##private access modifiers:-> private only used in class \n",
    "class Person:\n",
    "    def __init__(self,name,age):## constructor\n",
    "        self.__name=name\n",
    "        self.__age=age\n",
    "    def display_info(self):\n",
    "        print(f\"the person name is {self.__name} and the age is {self.__age}\")\n",
    "        \n",
    "        "
   ]
  },
  {
   "cell_type": "code",
   "execution_count": 7,
   "id": "473a954e",
   "metadata": {},
   "outputs": [
    {
     "name": "stdout",
     "output_type": "stream",
     "text": [
      "the person name is parimal and the age is 20\n"
     ]
    }
   ],
   "source": [
    "person=Person(\"parimal\",20)\n",
    "person.display_info()"
   ]
  },
  {
   "cell_type": "code",
   "execution_count": null,
   "id": "120e4bbc",
   "metadata": {},
   "outputs": [],
   "source": [
    "##protected access modifiers:-> it only used in derived class \n",
    "class Person:\n",
    "    def __init__(self,name,age):## constructor\n",
    "        self._name=name\n",
    "        self._age=age\n"
   ]
  },
  {
   "cell_type": "code",
   "execution_count": 9,
   "id": "a5135512",
   "metadata": {},
   "outputs": [],
   "source": [
    "person=Person(\"parimal\",20)"
   ]
  },
  {
   "cell_type": "code",
   "execution_count": 10,
   "id": "57140cff",
   "metadata": {},
   "outputs": [
    {
     "data": {
      "text/plain": [
       "20"
      ]
     },
     "execution_count": 10,
     "metadata": {},
     "output_type": "execute_result"
    }
   ],
   "source": [
    "dir(person)\n",
    "person._age"
   ]
  },
  {
   "cell_type": "code",
   "execution_count": 12,
   "id": "c2a4afb7",
   "metadata": {},
   "outputs": [],
   "source": [
    "class Student(Person):\n",
    "    def __init__(self,name,age):\n",
    "      super().__init__(name,age)\n",
    "    def display_info(self):\n",
    "       print(f\"the person name is {self._name} and the age is {self._age}\")"
   ]
  },
  {
   "cell_type": "code",
   "execution_count": 13,
   "id": "cf29c99a",
   "metadata": {},
   "outputs": [],
   "source": [
    "student1=Student(\"parimal\",20)"
   ]
  },
  {
   "cell_type": "code",
   "execution_count": 14,
   "id": "d1cf4735",
   "metadata": {},
   "outputs": [
    {
     "name": "stdout",
     "output_type": "stream",
     "text": [
      "the person name is parimal and the age is 20\n"
     ]
    }
   ],
   "source": [
    "student1.display_info()"
   ]
  },
  {
   "cell_type": "code",
   "execution_count": null,
   "id": "795483b5",
   "metadata": {},
   "outputs": [],
   "source": [
    "## public access modifiers\n",
    "class Person:\n",
    "    def __init__(self,name,age):## constructor\n",
    "        self.name=name\n",
    "        self.age=age"
   ]
  }
 ],
 "metadata": {
  "kernelspec": {
   "display_name": "Python 3",
   "language": "python",
   "name": "python3"
  },
  "language_info": {
   "codemirror_mode": {
    "name": "ipython",
    "version": 3
   },
   "file_extension": ".py",
   "mimetype": "text/x-python",
   "name": "python",
   "nbconvert_exporter": "python",
   "pygments_lexer": "ipython3",
   "version": "3.11.5"
  }
 },
 "nbformat": 4,
 "nbformat_minor": 5
}
