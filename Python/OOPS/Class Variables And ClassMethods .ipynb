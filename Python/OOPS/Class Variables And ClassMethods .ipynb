{
 "cells": [
  {
   "cell_type": "markdown",
   "id": "491c17c7",
   "metadata": {},
   "source": [
    "#### Class Variables And Class Methods "
   ]
  },
  {
   "cell_type": "code",
   "execution_count": 1,
   "id": "b31729ac",
   "metadata": {},
   "outputs": [],
   "source": [
    "class Car:\n",
    "    base_price=100000 ## class variable\n",
    "    def __init__(self,windows,doors, power):\n",
    "        self.windows=windows\n",
    "        self.doors=doors\n",
    "        self.power=power\n",
    "    def what_base_price(self):\n",
    "        print(\"the base price is{}\".format (self.base_price))"
   ]
  },
  {
   "cell_type": "code",
   "execution_count": null,
   "id": "49ef0da2",
   "metadata": {},
   "outputs": [
    {
     "data": {
      "text/plain": [
       "100000"
      ]
     },
     "execution_count": 2,
     "metadata": {},
     "output_type": "execute_result"
    }
   ],
   "source": [
    "## in order to access the class variable there are two methods\n",
    "## one way:=\n",
    "car1=Car(4,5,2000)## instance\n",
    "car1.base_price"
   ]
  },
  {
   "cell_type": "code",
   "execution_count": null,
   "id": "e3891c76",
   "metadata": {},
   "outputs": [
    {
     "data": {
      "text/plain": [
       "100000"
      ]
     },
     "execution_count": 3,
     "metadata": {},
     "output_type": "execute_result"
    }
   ],
   "source": [
    "## second way\n",
    "Car.base_price## direct class called"
   ]
  },
  {
   "cell_type": "code",
   "execution_count": 7,
   "id": "05df0f50",
   "metadata": {},
   "outputs": [],
   "source": [
    "## class method:- i have add every year 10% rate inflation this is my condition\n",
    "class Car:\n",
    "    base_price=100000 ## class variable\n",
    "    def __init__(self,windows,doors, power):\n",
    "        self.windows=windows\n",
    "        self.doors=doors\n",
    "        self.power=power\n",
    "    def what_base_price(self):\n",
    "        print(\"the base price is{}\".format (self.base_price))\n",
    "    @classmethod## deccorators\n",
    "    def revise_based_price(cls,inflation):# when we use cls means with respect to class type\n",
    "        cls.base_price=cls.base_price+cls.base_price*inflation\n",
    "        "
   ]
  },
  {
   "cell_type": "code",
   "execution_count": 8,
   "id": "419be0d6",
   "metadata": {},
   "outputs": [],
   "source": [
    "Car.revise_based_price(0.10)"
   ]
  },
  {
   "cell_type": "code",
   "execution_count": 9,
   "id": "636571de",
   "metadata": {},
   "outputs": [
    {
     "data": {
      "text/plain": [
       "110000.0"
      ]
     },
     "execution_count": 9,
     "metadata": {},
     "output_type": "execute_result"
    }
   ],
   "source": [
    "Car.base_price"
   ]
  },
  {
   "cell_type": "code",
   "execution_count": 12,
   "id": "82058bbc",
   "metadata": {},
   "outputs": [],
   "source": [
    "car1=Car(4,5,2000)"
   ]
  },
  {
   "cell_type": "code",
   "execution_count": 13,
   "id": "1019bde1",
   "metadata": {},
   "outputs": [
    {
     "data": {
      "text/plain": [
       "110000.0"
      ]
     },
     "execution_count": 13,
     "metadata": {},
     "output_type": "execute_result"
    }
   ],
   "source": [
    "car1.base_price"
   ]
  },
  {
   "cell_type": "code",
   "execution_count": 19,
   "id": "a90dcc00",
   "metadata": {},
   "outputs": [],
   "source": [
    "Car.revise_based_price(0.10)"
   ]
  },
  {
   "cell_type": "code",
   "execution_count": 20,
   "id": "e8e8c583",
   "metadata": {},
   "outputs": [],
   "source": [
    "car2=Car(4,8,2000)"
   ]
  },
  {
   "cell_type": "code",
   "execution_count": 21,
   "id": "922d4ed4",
   "metadata": {},
   "outputs": [
    {
     "data": {
      "text/plain": [
       "121000.0"
      ]
     },
     "execution_count": 21,
     "metadata": {},
     "output_type": "execute_result"
    }
   ],
   "source": [
    "car2.base_price"
   ]
  }
 ],
 "metadata": {
  "kernelspec": {
   "display_name": "Python 3",
   "language": "python",
   "name": "python3"
  },
  "language_info": {
   "codemirror_mode": {
    "name": "ipython",
    "version": 3
   },
   "file_extension": ".py",
   "mimetype": "text/x-python",
   "name": "python",
   "nbconvert_exporter": "python",
   "pygments_lexer": "ipython3",
   "version": "3.11.5"
  }
 },
 "nbformat": 4,
 "nbformat_minor": 5
}
