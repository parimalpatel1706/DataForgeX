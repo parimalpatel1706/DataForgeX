{
 "cells": [
  {
   "cell_type": "markdown",
   "id": "8ac19489",
   "metadata": {},
   "source": [
    "#### Custom Exception Handling\n"
   ]
  },
  {
   "cell_type": "markdown",
   "id": "116fd970",
   "metadata": {},
   "source": [
    "In custom exception first we have to create the  custom class and then raise the exception and then catching the exception"
   ]
  },
  {
   "cell_type": "code",
   "execution_count": 1,
   "id": "0784859c",
   "metadata": {},
   "outputs": [],
   "source": [
    "class Error(Exception):\n",
    "    pass\n",
    "class dobException(Error):\n",
    "    pass"
   ]
  },
  {
   "cell_type": "code",
   "execution_count": 4,
   "id": "2e7258af",
   "metadata": {},
   "outputs": [
    {
     "name": "stdout",
     "output_type": "stream",
     "text": [
      "the age is valid. You can apply for exams\n"
     ]
    }
   ],
   "source": [
    "year=int(input(\"enter the year of Birth\"))\n",
    "age=2025-year\n",
    "try:\n",
    "    if age<=30 and age>=20:\n",
    "       print(\"the age is valid. You can apply for exams\")\n",
    "    else:\n",
    "        raise dobException\n",
    "except dobException :\n",
    "    print(\"The year age is not valid. You cannot apply for the exams\")\n",
    "    "
   ]
  }
 ],
 "metadata": {
  "kernelspec": {
   "display_name": "Python 3",
   "language": "python",
   "name": "python3"
  },
  "language_info": {
   "codemirror_mode": {
    "name": "ipython",
    "version": 3
   },
   "file_extension": ".py",
   "mimetype": "text/x-python",
   "name": "python",
   "nbconvert_exporter": "python",
   "pygments_lexer": "ipython3",
   "version": "3.11.5"
  }
 },
 "nbformat": 4,
 "nbformat_minor": 5
}
