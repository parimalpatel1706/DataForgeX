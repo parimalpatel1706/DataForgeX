{
 "cells": [
  {
   "cell_type": "markdown",
   "id": "424e7fd8",
   "metadata": {},
   "source": [
    "##### Exception Handling in Python"
   ]
  },
  {
   "cell_type": "code",
   "execution_count": null,
   "id": "ff03f451",
   "metadata": {},
   "outputs": [],
   "source": [
    "#try:\n",
    "    ## code block where exception can occur\n",
    "    #except:\n",
    "        #print(\"some problem may have occured\")"
   ]
  },
  {
   "cell_type": "code",
   "execution_count": 2,
   "id": "89f0a6fc",
   "metadata": {},
   "outputs": [
    {
     "name": "stdout",
     "output_type": "stream",
     "text": [
      "name 'b' is not defined\n"
     ]
    }
   ],
   "source": [
    "try:\n",
    "    a=b\n",
    "except Exception as exe:\n",
    "    print(exe)"
   ]
  },
  {
   "cell_type": "code",
   "execution_count": 3,
   "id": "8093652a",
   "metadata": {},
   "outputs": [
    {
     "name": "stdout",
     "output_type": "stream",
     "text": [
      "the user have not defined the variable\n"
     ]
    }
   ],
   "source": [
    "try:\n",
    "    a=b\n",
    "except NameError as ex1:\n",
    "    print(\"the user have not defined the variable\")\n",
    "except Exception as exe:## this will be always written to the last\n",
    "    print(exe)"
   ]
  },
  {
   "cell_type": "code",
   "execution_count": 4,
   "id": "0ef615dc",
   "metadata": {},
   "outputs": [
    {
     "name": "stdout",
     "output_type": "stream",
     "text": [
      "unsupported operand type(s) for +: 'int' and 'str'\n"
     ]
    }
   ],
   "source": [
    "try:\n",
    "    a=1\n",
    "    b=\"s\"\n",
    "    c=a+b\n",
    "except Exception as exe:\n",
    "    print(exe)"
   ]
  },
  {
   "cell_type": "code",
   "execution_count": 5,
   "id": "3fd0299f",
   "metadata": {},
   "outputs": [
    {
     "name": "stdout",
     "output_type": "stream",
     "text": [
      "Try to make the datatype similar\n"
     ]
    }
   ],
   "source": [
    "try:\n",
    "    a=1\n",
    "    b=\"s\"\n",
    "    c=a+b\n",
    "    a=b\n",
    "except NameError:\n",
    "    print(\"the user have not defined the variable\")\n",
    "except TypeError:\n",
    "    print(\"Try to make the datatype similar\")\n",
    "except Exception as exe:\n",
    "    print(exe)"
   ]
  },
  {
   "cell_type": "code",
   "execution_count": 6,
   "id": "daf2572a",
   "metadata": {},
   "outputs": [
    {
     "name": "stdout",
     "output_type": "stream",
     "text": [
      "0.9230769230769231\n",
      "156\n",
      "25\n"
     ]
    }
   ],
   "source": [
    "try:\n",
    "    a=int(input(\"enter the first number 1:-\"))\n",
    "    b=int(input(\"enter the number 2:-\"))\n",
    "    c=a/b## zero division error\n",
    "    d=a*b\n",
    "    e=a+b\n",
    "    print(c)\n",
    "    print(d)\n",
    "    print(e)\n",
    "except NameError:\n",
    "    print(\"the user have not defined the variable\")\n",
    "except TypeError:\n",
    "    print(\"Try to make the datatype similar\")\n",
    "except Exception as exe:\n",
    "    print(exe)"
   ]
  },
  {
   "cell_type": "code",
   "execution_count": 7,
   "id": "90e7c99a",
   "metadata": {},
   "outputs": [
    {
     "name": "stdout",
     "output_type": "stream",
     "text": [
      "Please provide number greater than 0\n"
     ]
    }
   ],
   "source": [
    "## handle it by own and prvoide my own statement\n",
    "## Zero division error\n",
    "try:\n",
    "    a=int(input(\"enter the first number 1:-\"))\n",
    "    b=int(input(\"enter the number 2:-\"))\n",
    "    c=a/b## zero division error\n",
    "    d=a*b\n",
    "    e=a+b\n",
    "    print(c)\n",
    "    print(d)\n",
    "    print(e)\n",
    "except NameError:\n",
    "    print(\"the user have not defined the variable\")\n",
    "except TypeError:\n",
    "    print(\"Try to make the datatype similar\")\n",
    "except ZeroDivisionError:\n",
    "    print(\"Please provide number greater than 0\")\n",
    "except Exception as exe:\n",
    "    print(exe)"
   ]
  },
  {
   "cell_type": "code",
   "execution_count": null,
   "id": "ce4cb7cb",
   "metadata": {},
   "outputs": [
    {
     "ename": "ZeroDivisionError",
     "evalue": "division by zero",
     "output_type": "error",
     "traceback": [
      "\u001b[31m---------------------------------------------------------------------------\u001b[39m",
      "\u001b[31mZeroDivisionError\u001b[39m                         Traceback (most recent call last)",
      "\u001b[36mCell\u001b[39m\u001b[36m \u001b[39m\u001b[32mIn[8]\u001b[39m\u001b[32m, line 1\u001b[39m\n\u001b[32m----> \u001b[39m\u001b[32m1\u001b[39m \u001b[32;43m12\u001b[39;49m\u001b[43m/\u001b[49m\u001b[32;43m0\u001b[39;49m\n",
      "\u001b[31mZeroDivisionError\u001b[39m: division by zero"
     ]
    }
   ],
   "source": [
    "12/0 ## we directly take from here to error name mens what is the error "
   ]
  },
  {
   "cell_type": "code",
   "execution_count": null,
   "id": "7ec8f1cc",
   "metadata": {},
   "outputs": [
    {
     "name": "stdout",
     "output_type": "stream",
     "text": [
      "3.0\n",
      "48\n",
      "16\n"
     ]
    }
   ],
   "source": [
    "## try -- else block statement also in exception handling\n",
    "try:\n",
    "    a=int(input(\"enter the first number 1:-\"))\n",
    "    b=int(input(\"enter the number 2:-\"))\n",
    "    c=a/b## zero division error\n",
    "    d=a*b\n",
    "    e=a+b\n",
    "except NameError:\n",
    "    print(\"the user have not defined the variable\")\n",
    "except TypeError:\n",
    "    print(\"Try to make the datatype similar\")\n",
    "except ZeroDivisionError:\n",
    "    print(\"Please provide number greater than 0\")\n",
    "except Exception as exe:\n",
    "    print(exe)\n",
    "else:\n",
    "    print(c)\n",
    "    print(d)\n",
    "    print(e)"
   ]
  },
  {
   "cell_type": "code",
   "execution_count": 10,
   "id": "f789ed63",
   "metadata": {},
   "outputs": [
    {
     "name": "stdout",
     "output_type": "stream",
     "text": [
      "Please provide number greater than 0\n",
      "The execution is done\n"
     ]
    }
   ],
   "source": [
    "### try else finally\n",
    "try:\n",
    "    a=int(input(\"enter the first number 1:-\"))\n",
    "    b=int(input(\"enter the number 2:-\"))\n",
    "    c=a/b## zero division error\n",
    "except NameError:\n",
    "    print(\"the user have not defined the variable\")\n",
    "except TypeError:\n",
    "    print(\"Try to make the datatype similar\")\n",
    "except ZeroDivisionError:\n",
    "    print(\"Please provide number greater than 0\")\n",
    "except Exception as exe:\n",
    "    print(exe)\n",
    "else:\n",
    "    print(c)\n",
    "finally:## finally block always executeded \n",
    "    print(\"The execution is done\")"
   ]
  }
 ],
 "metadata": {
  "kernelspec": {
   "display_name": "Python 3",
   "language": "python",
   "name": "python3"
  },
  "language_info": {
   "codemirror_mode": {
    "name": "ipython",
    "version": 3
   },
   "file_extension": ".py",
   "mimetype": "text/x-python",
   "name": "python",
   "nbconvert_exporter": "python",
   "pygments_lexer": "ipython3",
   "version": "3.11.5"
  }
 },
 "nbformat": 4,
 "nbformat_minor": 5
}
