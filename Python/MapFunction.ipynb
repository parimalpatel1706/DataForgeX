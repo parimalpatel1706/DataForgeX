{
 "cells": [
  {
   "cell_type": "markdown",
   "id": "6dbad666",
   "metadata": {},
   "source": [
    "### Map Functions"
   ]
  },
  {
   "cell_type": "code",
   "execution_count": 17,
   "id": "8fba6ed0",
   "metadata": {},
   "outputs": [],
   "source": [
    "def even_odd(num):\n",
    "    if num%2==0:\n",
    "        return \"The number {} is Even\".format(num)\n",
    "    else:\n",
    "        return \"The number {}  is odd\".format(num)"
   ]
  },
  {
   "cell_type": "code",
   "execution_count": 18,
   "id": "8e8b3f0b",
   "metadata": {},
   "outputs": [
    {
     "data": {
      "text/plain": [
       "'The number 24 is Even'"
      ]
     },
     "execution_count": 18,
     "metadata": {},
     "output_type": "execute_result"
    }
   ],
   "source": [
    "even_odd(24)"
   ]
  },
  {
   "cell_type": "code",
   "execution_count": 19,
   "id": "5f86f621",
   "metadata": {},
   "outputs": [],
   "source": [
    "lst=[1,2,3,4,5,6,7,8,9,24,56,78]## we have to separate even and odd number"
   ]
  },
  {
   "cell_type": "code",
   "execution_count": 20,
   "id": "58e3a6e0",
   "metadata": {},
   "outputs": [
    {
     "data": {
      "text/plain": [
       "['The number 1  is odd',\n",
       " 'The number 2 is Even',\n",
       " 'The number 3  is odd',\n",
       " 'The number 4 is Even',\n",
       " 'The number 5  is odd',\n",
       " 'The number 6 is Even',\n",
       " 'The number 7  is odd',\n",
       " 'The number 8 is Even',\n",
       " 'The number 9  is odd',\n",
       " 'The number 24 is Even',\n",
       " 'The number 56 is Even',\n",
       " 'The number 78 is Even']"
      ]
     },
     "execution_count": 20,
     "metadata": {},
     "output_type": "execute_result"
    }
   ],
   "source": [
    "list(map(even_odd,lst))"
   ]
  },
  {
   "cell_type": "code",
   "execution_count": null,
   "id": "bbd05787",
   "metadata": {},
   "outputs": [],
   "source": []
  }
 ],
 "metadata": {
  "kernelspec": {
   "display_name": "Python 3",
   "language": "python",
   "name": "python3"
  },
  "language_info": {
   "codemirror_mode": {
    "name": "ipython",
    "version": 3
   },
   "file_extension": ".py",
   "mimetype": "text/x-python",
   "name": "python",
   "nbconvert_exporter": "python",
   "pygments_lexer": "ipython3",
   "version": "3.11.5"
  }
 },
 "nbformat": 4,
 "nbformat_minor": 5
}
