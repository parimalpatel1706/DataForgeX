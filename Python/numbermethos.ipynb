{
 "cells": [
  {
   "cell_type": "markdown",
   "id": "fa8ee979",
   "metadata": {},
   "source": [
    "##### Python Number Methods"
   ]
  },
  {
   "cell_type": "markdown",
   "id": "773cce14",
   "metadata": {},
   "source": [
    "##### Absolute Method\n",
    "abs(x) will return the absolute value of a number x which we pass in argument. The number x can be integer, float, complex,..\n",
    "\n"
   ]
  },
  {
   "cell_type": "code",
   "execution_count": 2,
   "id": "c5c082a8",
   "metadata": {},
   "outputs": [
    {
     "data": {
      "text/plain": [
       "20"
      ]
     },
     "execution_count": 2,
     "metadata": {},
     "output_type": "execute_result"
    }
   ],
   "source": [
    "# Absolute Method\n",
    "abs(10)\n",
    "abs(-20)"
   ]
  },
  {
   "cell_type": "code",
   "execution_count": 3,
   "id": "bbb23cbd",
   "metadata": {},
   "outputs": [
    {
     "data": {
      "text/plain": [
       "55.02"
      ]
     },
     "execution_count": 3,
     "metadata": {},
     "output_type": "execute_result"
    }
   ],
   "source": [
    "abs(-55.02)"
   ]
  },
  {
   "cell_type": "markdown",
   "id": "445bd524",
   "metadata": {},
   "source": [
    "\n",
    "#### ceil()\n",
    "ceil(x) will return the ceiling value of a number x which we pass in argument. The ceiling value of a number x will be the smallest integer not less than x\n",
    "\n",
    "Note :- This function will not be accessible directly using ceil() method. Math module will be required to access this method."
   ]
  },
  {
   "cell_type": "code",
   "execution_count": 4,
   "id": "9fb53a96",
   "metadata": {},
   "outputs": [],
   "source": [
    "import math"
   ]
  },
  {
   "cell_type": "code",
   "execution_count": null,
   "id": "435eea01",
   "metadata": {},
   "outputs": [
    {
     "data": {
      "text/plain": [
       "44"
      ]
     },
     "execution_count": 6,
     "metadata": {},
     "output_type": "execute_result"
    }
   ],
   "source": [
    "math.ceil(43.67)# rounoff karta hai ,the next number"
   ]
  },
  {
   "cell_type": "code",
   "execution_count": 7,
   "id": "33c7a1ea",
   "metadata": {},
   "outputs": [
    {
     "data": {
      "text/plain": [
       "44"
      ]
     },
     "execution_count": 7,
     "metadata": {},
     "output_type": "execute_result"
    }
   ],
   "source": [
    "math.ceil(43.3)"
   ]
  },
  {
   "cell_type": "code",
   "execution_count": 8,
   "id": "8e18702f",
   "metadata": {},
   "outputs": [
    {
     "data": {
      "text/plain": [
       "43"
      ]
     },
     "execution_count": 8,
     "metadata": {},
     "output_type": "execute_result"
    }
   ],
   "source": [
    "math.ceil(42.1)"
   ]
  },
  {
   "cell_type": "code",
   "execution_count": 9,
   "id": "bca12483",
   "metadata": {},
   "outputs": [
    {
     "data": {
      "text/plain": [
       "-44"
      ]
     },
     "execution_count": 9,
     "metadata": {},
     "output_type": "execute_result"
    }
   ],
   "source": [
    "math.ceil(-44.5)"
   ]
  },
  {
   "cell_type": "markdown",
   "id": "fe3a3d05",
   "metadata": {},
   "source": [
    "#### Floor\n",
    "unction Python me kisi number ko neeche (down) round karta hai — matlab us number se chhota ya barabar sabse bada integer return karta hai."
   ]
  },
  {
   "cell_type": "code",
   "execution_count": 10,
   "id": "f975153c",
   "metadata": {},
   "outputs": [
    {
     "data": {
      "text/plain": [
       "43"
      ]
     },
     "execution_count": 10,
     "metadata": {},
     "output_type": "execute_result"
    }
   ],
   "source": [
    "math.floor(43.1)"
   ]
  },
  {
   "cell_type": "code",
   "execution_count": 11,
   "id": "5afd658f",
   "metadata": {},
   "outputs": [
    {
     "data": {
      "text/plain": [
       "43"
      ]
     },
     "execution_count": 11,
     "metadata": {},
     "output_type": "execute_result"
    }
   ],
   "source": [
    "math.floor(43.9)"
   ]
  },
  {
   "cell_type": "code",
   "execution_count": 12,
   "id": "2ff1cc3e",
   "metadata": {},
   "outputs": [
    {
     "data": {
      "text/plain": [
       "-57"
      ]
     },
     "execution_count": 12,
     "metadata": {},
     "output_type": "execute_result"
    }
   ],
   "source": [
    "math.floor(-56.19)"
   ]
  },
  {
   "cell_type": "markdown",
   "id": "3d9d2396",
   "metadata": {},
   "source": [
    "#### Exponential Function\n",
    "Python me exponential function ka use hota hai power ya exponential value calculate karne ke liye"
   ]
  },
  {
   "cell_type": "code",
   "execution_count": 13,
   "id": "eabbc3b7",
   "metadata": {},
   "outputs": [
    {
     "data": {
      "text/plain": [
       "22026.465794806718"
      ]
     },
     "execution_count": 13,
     "metadata": {},
     "output_type": "execute_result"
    }
   ],
   "source": [
    "math.exp(10)"
   ]
  },
  {
   "cell_type": "code",
   "execution_count": 14,
   "id": "06e442a2",
   "metadata": {},
   "outputs": [
    {
     "data": {
      "text/plain": [
       "0.0009118819655545162"
      ]
     },
     "execution_count": 14,
     "metadata": {},
     "output_type": "execute_result"
    }
   ],
   "source": [
    "math.exp(-7)"
   ]
  },
  {
   "cell_type": "markdown",
   "id": "dbc2f0d8",
   "metadata": {},
   "source": [
    "#### Fabs()"
   ]
  },
  {
   "cell_type": "code",
   "execution_count": 17,
   "id": "703f0828",
   "metadata": {},
   "outputs": [
    {
     "data": {
      "text/plain": [
       "10.53"
      ]
     },
     "execution_count": 17,
     "metadata": {},
     "output_type": "execute_result"
    }
   ],
   "source": [
    "math.fabs(10.53)# jo value hai wahi aayega"
   ]
  },
  {
   "cell_type": "code",
   "execution_count": 18,
   "id": "7722a6dc",
   "metadata": {},
   "outputs": [
    {
     "data": {
      "text/plain": [
       "10.0"
      ]
     },
     "execution_count": 18,
     "metadata": {},
     "output_type": "execute_result"
    }
   ],
   "source": [
    "math.fabs(-10)"
   ]
  },
  {
   "cell_type": "markdown",
   "id": "2231756c",
   "metadata": {},
   "source": [
    "### log(x)"
   ]
  },
  {
   "cell_type": "code",
   "execution_count": 19,
   "id": "f9d3f397",
   "metadata": {},
   "outputs": [
    {
     "data": {
      "text/plain": [
       "2.995732273553991"
      ]
     },
     "execution_count": 19,
     "metadata": {},
     "output_type": "execute_result"
    }
   ],
   "source": [
    "math.log(20)"
   ]
  },
  {
   "cell_type": "code",
   "execution_count": 20,
   "id": "f86e2fe1",
   "metadata": {},
   "outputs": [
    {
     "data": {
      "text/plain": [
       "4.182050142641207"
      ]
     },
     "execution_count": 20,
     "metadata": {},
     "output_type": "execute_result"
    }
   ],
   "source": [
    "math.log(65.5)"
   ]
  },
  {
   "cell_type": "code",
   "execution_count": null,
   "id": "c3f8aa51",
   "metadata": {},
   "outputs": [
    {
     "data": {
      "text/plain": [
       "1.0"
      ]
     },
     "execution_count": 21,
     "metadata": {},
     "output_type": "execute_result"
    }
   ],
   "source": [
    "math.log10(10)#here log10 is function"
   ]
  },
  {
   "cell_type": "markdown",
   "id": "ef632ddf",
   "metadata": {},
   "source": [
    "#### Max()"
   ]
  },
  {
   "cell_type": "code",
   "execution_count": 23,
   "id": "67f66394",
   "metadata": {},
   "outputs": [
    {
     "data": {
      "text/plain": [
       "1000"
      ]
     },
     "execution_count": 23,
     "metadata": {},
     "output_type": "execute_result"
    }
   ],
   "source": [
    "max(10,12,5,76,1000,100)"
   ]
  },
  {
   "cell_type": "code",
   "execution_count": 24,
   "id": "fcb9018c",
   "metadata": {},
   "outputs": [
    {
     "data": {
      "text/plain": [
       "-22"
      ]
     },
     "execution_count": 24,
     "metadata": {},
     "output_type": "execute_result"
    }
   ],
   "source": [
    "max(-55,-33,-22)"
   ]
  },
  {
   "cell_type": "markdown",
   "id": "b02ee66c",
   "metadata": {},
   "source": [
    "#### Min()"
   ]
  },
  {
   "cell_type": "code",
   "execution_count": 25,
   "id": "7faec092",
   "metadata": {},
   "outputs": [
    {
     "data": {
      "text/plain": [
       "0"
      ]
     },
     "execution_count": 25,
     "metadata": {},
     "output_type": "execute_result"
    }
   ],
   "source": [
    "min(3,7,0,1,2)"
   ]
  },
  {
   "cell_type": "code",
   "execution_count": 26,
   "id": "7f6dc2f0",
   "metadata": {},
   "outputs": [
    {
     "data": {
      "text/plain": [
       "-9"
      ]
     },
     "execution_count": 26,
     "metadata": {},
     "output_type": "execute_result"
    }
   ],
   "source": [
    "min(-1,-8,-9)"
   ]
  },
  {
   "cell_type": "markdown",
   "id": "bf96c5d2",
   "metadata": {},
   "source": [
    "#### power function\n"
   ]
  },
  {
   "cell_type": "code",
   "execution_count": 27,
   "id": "2960794a",
   "metadata": {},
   "outputs": [
    {
     "data": {
      "text/plain": [
       "32.0"
      ]
     },
     "execution_count": 27,
     "metadata": {},
     "output_type": "execute_result"
    }
   ],
   "source": [
    "import math\n",
    "math.pow(2,5)"
   ]
  },
  {
   "cell_type": "code",
   "execution_count": 28,
   "id": "cba5aaca",
   "metadata": {},
   "outputs": [
    {
     "data": {
      "text/plain": [
       "-0.00032"
      ]
     },
     "execution_count": 28,
     "metadata": {},
     "output_type": "execute_result"
    }
   ],
   "source": [
    "math.pow(-5,-5)"
   ]
  },
  {
   "cell_type": "markdown",
   "id": "20232020",
   "metadata": {},
   "source": [
    "#### Sqrt"
   ]
  },
  {
   "cell_type": "code",
   "execution_count": 31,
   "id": "6e7f50c1",
   "metadata": {},
   "outputs": [
    {
     "data": {
      "text/plain": [
       "5.0"
      ]
     },
     "execution_count": 31,
     "metadata": {},
     "output_type": "execute_result"
    }
   ],
   "source": [
    "math.sqrt(25)# sqrt mein negative number use nhi kar skte hai"
   ]
  },
  {
   "cell_type": "code",
   "execution_count": 32,
   "id": "38577b5a",
   "metadata": {},
   "outputs": [
    {
     "data": {
      "text/plain": [
       "10.0"
      ]
     },
     "execution_count": 32,
     "metadata": {},
     "output_type": "execute_result"
    }
   ],
   "source": [
    "math.sqrt(100)"
   ]
  },
  {
   "cell_type": "markdown",
   "id": "83f83851",
   "metadata": {},
   "source": [
    "#### Triggnometric Functions"
   ]
  },
  {
   "cell_type": "code",
   "execution_count": 33,
   "id": "1d1121f9",
   "metadata": {},
   "outputs": [
    {
     "data": {
      "text/plain": [
       "0.0"
      ]
     },
     "execution_count": 33,
     "metadata": {},
     "output_type": "execute_result"
    }
   ],
   "source": [
    "# sin\n",
    "import math\n",
    "math.sin(0)"
   ]
  },
  {
   "cell_type": "code",
   "execution_count": 34,
   "id": "c816439b",
   "metadata": {},
   "outputs": [
    {
     "data": {
      "text/plain": [
       "-0.4480736161291701"
      ]
     },
     "execution_count": 34,
     "metadata": {},
     "output_type": "execute_result"
    }
   ],
   "source": [
    "math.cos(90)"
   ]
  },
  {
   "cell_type": "code",
   "execution_count": 35,
   "id": "6a97486c",
   "metadata": {},
   "outputs": [
    {
     "data": {
      "text/plain": [
       "1.0"
      ]
     },
     "execution_count": 35,
     "metadata": {},
     "output_type": "execute_result"
    }
   ],
   "source": [
    "math.cos(0)"
   ]
  },
  {
   "cell_type": "code",
   "execution_count": 36,
   "id": "0b137ad6",
   "metadata": {},
   "outputs": [
    {
     "data": {
      "text/plain": [
       "1.6197751905438615"
      ]
     },
     "execution_count": 36,
     "metadata": {},
     "output_type": "execute_result"
    }
   ],
   "source": [
    "math.tan(45)"
   ]
  },
  {
   "cell_type": "markdown",
   "id": "7f265eb8",
   "metadata": {},
   "source": [
    "#### Hypothense Function"
   ]
  },
  {
   "cell_type": "code",
   "execution_count": 37,
   "id": "ba853111",
   "metadata": {},
   "outputs": [
    {
     "data": {
      "text/plain": [
       "3.605551275463989"
      ]
     },
     "execution_count": 37,
     "metadata": {},
     "output_type": "execute_result"
    }
   ],
   "source": [
    "math.hypot(2,3)"
   ]
  },
  {
   "cell_type": "markdown",
   "id": "77f37db1",
   "metadata": {},
   "source": [
    "##### assignment\n",
    "* math.modf"
   ]
  }
 ],
 "metadata": {
  "kernelspec": {
   "display_name": "Python 3",
   "language": "python",
   "name": "python3"
  },
  "language_info": {
   "codemirror_mode": {
    "name": "ipython",
    "version": 3
   },
   "file_extension": ".py",
   "mimetype": "text/x-python",
   "name": "python",
   "nbconvert_exporter": "python",
   "pygments_lexer": "ipython3",
   "version": "3.11.5"
  }
 },
 "nbformat": 4,
 "nbformat_minor": 5
}
