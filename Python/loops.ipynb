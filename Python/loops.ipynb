{
 "cells": [
  {
   "cell_type": "markdown",
   "id": "fcd25988",
   "metadata": {},
   "source": [
    "##### Loops\n",
    "* for loop\n",
    "* while loop"
   ]
  },
  {
   "cell_type": "code",
   "execution_count": 2,
   "id": "601f3f79",
   "metadata": {},
   "outputs": [
    {
     "name": "stdout",
     "output_type": "stream",
     "text": [
      "1\n",
      "4\n",
      "9\n",
      "16\n",
      "25\n",
      "36\n",
      "49\n"
     ]
    }
   ],
   "source": [
    "# for loop\n",
    "lst=[1,2,3,4,5,6,7]\n",
    "for i in lst:\n",
    "    print(i**2)"
   ]
  },
  {
   "cell_type": "code",
   "execution_count": 3,
   "id": "6048cbaf",
   "metadata": {},
   "outputs": [
    {
     "name": "stdout",
     "output_type": "stream",
     "text": [
      "28\n"
     ]
    }
   ],
   "source": [
    "# find the sum of all the elements in list\n",
    "lst=[1,2,3,4,5,6,7]\n",
    "sum1=0\n",
    "for i in lst:\n",
    "    sum1=sum1+i\n",
    "print(sum1)"
   ]
  },
  {
   "cell_type": "code",
   "execution_count": 8,
   "id": "13a538d7",
   "metadata": {},
   "outputs": [
    {
     "name": "stdout",
     "output_type": "stream",
     "text": [
      "Sum of even numbers: 12\n",
      "Sum of odd numbers: 16\n"
     ]
    }
   ],
   "source": [
    "# find the sum of even and odd number\n",
    "lst = [1, 2, 3, 4, 5, 6, 7]\n",
    "even_sum = 0\n",
    "odd_sum = 0\n",
    "\n",
    "for i in lst:\n",
    "    if i % 2 == 0:\n",
    "        even_sum  = even_sum  + i\n",
    "    else:\n",
    "        odd_sum = odd_sum + i\n",
    "\n",
    "print(\"Sum of even numbers:\", even_sum )\n",
    "print(\"Sum of odd numbers:\", odd_sum)\n"
   ]
  },
  {
   "cell_type": "code",
   "execution_count": 9,
   "id": "9b835f7c",
   "metadata": {},
   "outputs": [
    {
     "name": "stdout",
     "output_type": "stream",
     "text": [
      "Sum of even numbers:12\n",
      "Sum of odd numbers:16\n"
     ]
    }
   ],
   "source": [
    "# method 2\n",
    "# find the sum of even and odd number\n",
    "lst = [1, 2, 3, 4, 5, 6, 7]\n",
    "even_sum = 0\n",
    "odd_sum = 0\n",
    "\n",
    "for i in lst:\n",
    "    if i % 2 == 0:\n",
    "        even_sum  = even_sum  + i\n",
    "    else:\n",
    "        odd_sum = odd_sum + i\n",
    "\n",
    "print(\"Sum of even numbers:{}\".format(even_sum) )\n",
    "print(\"Sum of odd numbers:{}\".format(odd_sum))"
   ]
  },
  {
   "cell_type": "code",
   "execution_count": 10,
   "id": "3b2f0add",
   "metadata": {},
   "outputs": [
    {
     "name": "stdout",
     "output_type": "stream",
     "text": [
      "0\n",
      "1\n",
      "2\n",
      "3\n",
      "4\n",
      "5\n",
      "6\n",
      "7\n",
      "8\n",
      "9\n",
      "10\n"
     ]
    }
   ],
   "source": [
    "## While loop\n",
    "i=0\n",
    "while(i<=10):\n",
    "    print(i)\n",
    "    i=i+1"
   ]
  },
  {
   "cell_type": "code",
   "execution_count": 11,
   "id": "ccc85767",
   "metadata": {},
   "outputs": [
    {
     "name": "stdout",
     "output_type": "stream",
     "text": [
      "30 25\n"
     ]
    }
   ],
   "source": [
    "# find the sum of even and odd number\n",
    "i=0\n",
    "even_sum=0\n",
    "odd_sum=0\n",
    "while(i<=10):\n",
    "    if(i%2==0):\n",
    "        even_sum=even_sum+i\n",
    "    else:\n",
    "        odd_sum=odd_sum+i\n",
    "    i=i+1\n",
    "print(even_sum,odd_sum)"
   ]
  },
  {
   "cell_type": "code",
   "execution_count": 13,
   "id": "144bbcae",
   "metadata": {},
   "outputs": [
    {
     "name": "stdout",
     "output_type": "stream",
     "text": [
      "1\n",
      "2\n",
      "3\n",
      "4\n"
     ]
    }
   ],
   "source": [
    "# break:- ek condition se bhar nikal aana hai\n",
    "x=1\n",
    "while(x<7):\n",
    "    print(x)\n",
    "    if(x==4):\n",
    "        break\n",
    "    x=x+1\n"
   ]
  },
  {
   "cell_type": "code",
   "execution_count": null,
   "id": "390cc039",
   "metadata": {},
   "outputs": [
    {
     "name": "stdout",
     "output_type": "stream",
     "text": [
      "1\n",
      "2\n",
      "3\n",
      "5\n",
      "6\n",
      "7\n"
     ]
    }
   ],
   "source": [
    "# continue:- skip karna \n",
    "x=0\n",
    "while x<7:\n",
    "    x=x+1\n",
    "    if x==4:\n",
    "        continue\n",
    "    print(x)"
   ]
  }
 ],
 "metadata": {
  "kernelspec": {
   "display_name": "Python 3",
   "language": "python",
   "name": "python3"
  },
  "language_info": {
   "codemirror_mode": {
    "name": "ipython",
    "version": 3
   },
   "file_extension": ".py",
   "mimetype": "text/x-python",
   "name": "python",
   "nbconvert_exporter": "python",
   "pygments_lexer": "ipython3",
   "version": "3.11.5"
  }
 },
 "nbformat": 4,
 "nbformat_minor": 5
}
