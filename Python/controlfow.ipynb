{
 "cells": [
  {
   "cell_type": "markdown",
   "id": "719247c4",
   "metadata": {},
   "source": [
    "#### Control Flows\n",
    "* if\n",
    "* else\n",
    "* elif"
   ]
  },
  {
   "cell_type": "code",
   "execution_count": 1,
   "id": "c4a38b43",
   "metadata": {},
   "outputs": [
    {
     "name": "stdout",
     "output_type": "stream",
     "text": [
      "the number is greater than 100\n"
     ]
    }
   ],
   "source": [
    "#if\n",
    "#syntax : if(condition):\n",
    "val=input(\"enter the number \")\n",
    "value_float=float(val)\n",
    "if(value_float>100):\n",
    "    print(\"the number is greater than 100\")"
   ]
  },
  {
   "cell_type": "code",
   "execution_count": null,
   "id": "e5f4a0cb",
   "metadata": {},
   "outputs": [
    {
     "name": "stdout",
     "output_type": "stream",
     "text": [
      "number is odd\n"
     ]
    }
   ],
   "source": [
    "# if-else statement \n",
    "# for checking even or odd\n",
    "value=input(\"enter the number: \")\n",
    "value_float=float(value)\n",
    "if(value_float%2==0):\n",
    "    print(\"number is even\")\n",
    "else:\n",
    "    print(\"number is odd\")"
   ]
  },
  {
   "cell_type": "code",
   "execution_count": 7,
   "id": "b5b005b1",
   "metadata": {},
   "outputs": [
    {
     "name": "stdout",
     "output_type": "stream",
     "text": [
      "senior citizen\n"
     ]
    }
   ],
   "source": [
    "## age form\n",
    "#nested if else\n",
    "age=float(input(\"enter the age \"))\n",
    "if(age<18):\n",
    "    print(\"minor age\")\n",
    "elif(age>=18 and age<=50):\n",
    "    print(\"mid age\")\n",
    "else:\n",
    "    print(\"senior citizen\")"
   ]
  },
  {
   "cell_type": "code",
   "execution_count": 8,
   "id": "242b3e38",
   "metadata": {},
   "outputs": [
    {
     "name": "stdout",
     "output_type": "stream",
     "text": [
      "minor age\n",
      "you are in school\n"
     ]
    }
   ],
   "source": [
    "# nested if else\n",
    "age=float(input(\"enter the age \"))\n",
    "if(age<18):\n",
    "    print(\"minor age\")\n",
    "    if(age<15):\n",
    "        print(\"you are in school\")\n",
    "    else:\n",
    "        print(\"you are in college\")\n",
    "elif(age>=18 and age<=50):\n",
    "    print(\"mid age\")\n",
    "else:\n",
    "    print(\"senior citizen\")"
   ]
  }
 ],
 "metadata": {
  "kernelspec": {
   "display_name": "Python 3",
   "language": "python",
   "name": "python3"
  },
  "language_info": {
   "codemirror_mode": {
    "name": "ipython",
    "version": 3
   },
   "file_extension": ".py",
   "mimetype": "text/x-python",
   "name": "python",
   "nbconvert_exporter": "python",
   "pygments_lexer": "ipython3",
   "version": "3.11.5"
  }
 },
 "nbformat": 4,
 "nbformat_minor": 5
}
